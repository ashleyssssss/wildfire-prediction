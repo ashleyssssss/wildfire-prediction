{
  "cells": [
    {
      "cell_type": "code",
      "execution_count": null,
      "metadata": {
        "id": "EjkSAa1VOjHk",
        "colab": {
          "base_uri": "https://localhost:8080/"
        },
        "outputId": "4551cff7-32d2-4af2-870d-a4e7f01e1b59"
      },
      "outputs": [
        {
          "output_type": "stream",
          "name": "stdout",
          "text": [
            "Mounted at /content/drive\n",
            "Collecting rioxarray\n",
            "  Downloading rioxarray-0.19.0-py3-none-any.whl.metadata (5.5 kB)\n",
            "Requirement already satisfied: packaging in /usr/local/lib/python3.11/dist-packages (from rioxarray) (24.2)\n",
            "Collecting rasterio>=1.4.3 (from rioxarray)\n",
            "  Downloading rasterio-1.4.3-cp311-cp311-manylinux_2_17_x86_64.manylinux2014_x86_64.whl.metadata (9.1 kB)\n",
            "Requirement already satisfied: xarray>=2024.7.0 in /usr/local/lib/python3.11/dist-packages (from rioxarray) (2025.3.1)\n",
            "Requirement already satisfied: pyproj>=3.3 in /usr/local/lib/python3.11/dist-packages (from rioxarray) (3.7.1)\n",
            "Requirement already satisfied: numpy>=1.23 in /usr/local/lib/python3.11/dist-packages (from rioxarray) (2.0.2)\n",
            "Requirement already satisfied: certifi in /usr/local/lib/python3.11/dist-packages (from pyproj>=3.3->rioxarray) (2025.4.26)\n",
            "Collecting affine (from rasterio>=1.4.3->rioxarray)\n",
            "  Downloading affine-2.4.0-py3-none-any.whl.metadata (4.0 kB)\n",
            "Requirement already satisfied: attrs in /usr/local/lib/python3.11/dist-packages (from rasterio>=1.4.3->rioxarray) (25.3.0)\n",
            "Requirement already satisfied: click>=4.0 in /usr/local/lib/python3.11/dist-packages (from rasterio>=1.4.3->rioxarray) (8.1.8)\n",
            "Collecting cligj>=0.5 (from rasterio>=1.4.3->rioxarray)\n",
            "  Downloading cligj-0.7.2-py3-none-any.whl.metadata (5.0 kB)\n",
            "Collecting click-plugins (from rasterio>=1.4.3->rioxarray)\n",
            "  Downloading click_plugins-1.1.1-py2.py3-none-any.whl.metadata (6.4 kB)\n",
            "Requirement already satisfied: pyparsing in /usr/local/lib/python3.11/dist-packages (from rasterio>=1.4.3->rioxarray) (3.2.3)\n",
            "Requirement already satisfied: pandas>=2.1 in /usr/local/lib/python3.11/dist-packages (from xarray>=2024.7.0->rioxarray) (2.2.2)\n",
            "Requirement already satisfied: python-dateutil>=2.8.2 in /usr/local/lib/python3.11/dist-packages (from pandas>=2.1->xarray>=2024.7.0->rioxarray) (2.9.0.post0)\n",
            "Requirement already satisfied: pytz>=2020.1 in /usr/local/lib/python3.11/dist-packages (from pandas>=2.1->xarray>=2024.7.0->rioxarray) (2025.2)\n",
            "Requirement already satisfied: tzdata>=2022.7 in /usr/local/lib/python3.11/dist-packages (from pandas>=2.1->xarray>=2024.7.0->rioxarray) (2025.2)\n",
            "Requirement already satisfied: six>=1.5 in /usr/local/lib/python3.11/dist-packages (from python-dateutil>=2.8.2->pandas>=2.1->xarray>=2024.7.0->rioxarray) (1.17.0)\n",
            "Downloading rioxarray-0.19.0-py3-none-any.whl (62 kB)\n",
            "\u001b[2K   \u001b[90m━━━━━━━━━━━━━━━━━━━━━━━━━━━━━━━━━━━━━━━━\u001b[0m \u001b[32m62.2/62.2 kB\u001b[0m \u001b[31m4.2 MB/s\u001b[0m eta \u001b[36m0:00:00\u001b[0m\n",
            "\u001b[?25hDownloading rasterio-1.4.3-cp311-cp311-manylinux_2_17_x86_64.manylinux2014_x86_64.whl (22.2 MB)\n",
            "\u001b[2K   \u001b[90m━━━━━━━━━━━━━━━━━━━━━━━━━━━━━━━━━━━━━━━━\u001b[0m \u001b[32m22.2/22.2 MB\u001b[0m \u001b[31m104.7 MB/s\u001b[0m eta \u001b[36m0:00:00\u001b[0m\n",
            "\u001b[?25hDownloading cligj-0.7.2-py3-none-any.whl (7.1 kB)\n",
            "Downloading affine-2.4.0-py3-none-any.whl (15 kB)\n",
            "Downloading click_plugins-1.1.1-py2.py3-none-any.whl (7.5 kB)\n",
            "Installing collected packages: cligj, click-plugins, affine, rasterio, rioxarray\n",
            "Successfully installed affine-2.4.0 click-plugins-1.1.1 cligj-0.7.2 rasterio-1.4.3 rioxarray-0.19.0\n"
          ]
        }
      ],
      "source": [
        "from google.colab import drive\n",
        "drive.mount('/content/drive')\n",
        "\n",
        "!pip install rioxarray\n",
        "\n",
        "import numpy as np\n",
        "import random\n",
        "import os\n",
        "import rasterio\n",
        "import matplotlib.pyplot as plt\n",
        "import matplotlib.colors as mcolors\n",
        "\n",
        "data = np.load(\"/content/drive/MyDrive/new_modis_data.npz\")"
      ]
    },
    {
      "cell_type": "markdown",
      "metadata": {
        "id": "mLv1_Gy6nLmQ"
      },
      "source": [
        "# Training Data\n"
      ]
    },
    {
      "cell_type": "code",
      "execution_count": null,
      "metadata": {
        "id": "4HYXYlrr9W9G"
      },
      "outputs": [],
      "source": [
        "import tensorflow as tf\n",
        "from tensorflow.keras.layers import (\n",
        "    Input, Conv2D, BatchNormalization, Activation, UpSampling2D,\n",
        "    Concatenate, Layer, Dropout, MaxPooling2D, Flatten, Dense, Dropout, GlobalAveragePooling2D\n",
        ")\n",
        "from tensorflow.keras import layers, models\n",
        "from tensorflow.keras.models import Model, Sequential, load_model\n",
        "from tensorflow.keras.losses import BinaryCrossentropy\n",
        "from tensorflow.keras.applications import ResNet50V2\n",
        "from tensorflow.keras.applications import EfficientNetB4, MobileNetV2, EfficientNetB0, MobileNetV3Large, VGG16\n",
        "from tensorflow.keras.callbacks import ModelCheckpoint, ReduceLROnPlateau, EarlyStopping\n",
        "from tensorflow.keras.optimizers import Adam\n",
        "from tensorflow.keras import backend as K\n",
        "from keras.metrics import MeanIoU\n",
        "from tensorflow.keras.models import load_model\n",
        "from tensorflow.keras.metrics import Precision, Recall"
      ]
    },
    {
      "cell_type": "code",
      "execution_count": null,
      "metadata": {
        "id": "T5R74NOnI-1p"
      },
      "outputs": [],
      "source": [
        "X_train = data[\"X_train\"]\n",
        "y_train = data[\"y_train\"]\n",
        "\n",
        "X_val = data[\"X_val\"]\n",
        "y_val = data[\"y_val\"]\n",
        "\n",
        "X_test = data[\"X_test\"]\n",
        "y_test = data[\"y_test\"]\n",
        "\n",
        "X_train.shape\n",
        "data.close()"
      ]
    },
    {
      "cell_type": "code",
      "source": [
        "input_shape = (32, 32, 3)"
      ],
      "metadata": {
        "id": "TPTekwQRsY_y"
      },
      "execution_count": null,
      "outputs": []
    },
    {
      "cell_type": "code",
      "source": [
        "recall = tf.keras.metrics.Recall(name='recall')\n",
        "precision = tf.keras.metrics.Precision(name='precision')"
      ],
      "metadata": {
        "id": "8jAjH70YmUcl"
      },
      "execution_count": null,
      "outputs": []
    },
    {
      "cell_type": "markdown",
      "source": [
        "## EfficientNetB0 - Ashley"
      ],
      "metadata": {
        "id": "JrqyBN0tGNPC"
      }
    },
    {
      "cell_type": "code",
      "source": [
        "def create_efficientnetb0():\n",
        "    base_model = EfficientNetB0(input_shape=input_shape, include_top=False, weights='imagenet')\n",
        "    base_model.trainable = False\n",
        "\n",
        "    inputs = Input(shape=input_shape)\n",
        "    x = base_model(inputs, training=False)\n",
        "    x = GlobalAveragePooling2D()(x)\n",
        "    x = Dense(64, activation='relu')(x)\n",
        "    x = Dropout(0.5)(x)\n",
        "    outputs = Dense(1, activation='sigmoid')(x)\n",
        "\n",
        "    model = Model(inputs, outputs)\n",
        "\n",
        "    return model"
      ],
      "metadata": {
        "id": "Yp2VEvrLsdX4"
      },
      "execution_count": null,
      "outputs": []
    },
    {
      "cell_type": "code",
      "source": [
        "efficientnetb0 = create_efficientnetb0()\n",
        "\n",
        "callbacks = [\n",
        "    ModelCheckpoint(\"best_model.keras\", save_best_only=True, monitor=\"val_loss\", verbose=1),\n",
        "    ReduceLROnPlateau(monitor=\"val_loss\", factor=0.5, patience=3, min_lr=1e-6, verbose=1),\n",
        "    EarlyStopping(monitor=\"val_loss\", patience=5, restore_best_weights=True, verbose=1),\n",
        "]\n",
        "\n",
        "efficientnetb0.compile(\n",
        "    optimizer='adam',\n",
        "    loss='binary_crossentropy',\n",
        "    metrics=[recall, precision, 'accuracy']\n",
        ")\n",
        "\n",
        "efficientnetb0.fit(X_train, y_train, validation_data=(X_val, y_val), batch_size=16, epochs=20, callbacks=callbacks)"
      ],
      "metadata": {
        "colab": {
          "base_uri": "https://localhost:8080/"
        },
        "id": "L6Ie7YNs0V3o",
        "outputId": "173ea0b1-4d72-4e1b-c4f1-34a58a23acd5",
        "collapsed": true
      },
      "execution_count": null,
      "outputs": [
        {
          "output_type": "stream",
          "name": "stdout",
          "text": [
            "Epoch 1/20\n",
            "\u001b[1m693/693\u001b[0m \u001b[32m━━━━━━━━━━━━━━━━━━━━\u001b[0m\u001b[37m\u001b[0m \u001b[1m0s\u001b[0m 18ms/step - accuracy: 0.6575 - loss: 0.6514 - precision: 0.2939 - recall: 0.0094\n",
            "Epoch 1: val_loss improved from inf to 0.63697, saving model to best_model.keras\n",
            "\u001b[1m693/693\u001b[0m \u001b[32m━━━━━━━━━━━━━━━━━━━━\u001b[0m\u001b[37m\u001b[0m \u001b[1m43s\u001b[0m 33ms/step - accuracy: 0.6575 - loss: 0.6514 - precision: 0.2939 - recall: 0.0094 - val_accuracy: 0.6668 - val_loss: 0.6370 - val_precision: 0.0000e+00 - val_recall: 0.0000e+00 - learning_rate: 0.0010\n",
            "Epoch 2/20\n",
            "\u001b[1m693/693\u001b[0m \u001b[32m━━━━━━━━━━━━━━━━━━━━\u001b[0m\u001b[37m\u001b[0m \u001b[1m0s\u001b[0m 8ms/step - accuracy: 0.6651 - loss: 0.6441 - precision: 0.0000e+00 - recall: 0.0000e+00\n",
            "Epoch 2: val_loss improved from 0.63697 to 0.63651, saving model to best_model.keras\n",
            "\u001b[1m693/693\u001b[0m \u001b[32m━━━━━━━━━━━━━━━━━━━━\u001b[0m\u001b[37m\u001b[0m \u001b[1m9s\u001b[0m 13ms/step - accuracy: 0.6651 - loss: 0.6441 - precision: 0.0000e+00 - recall: 0.0000e+00 - val_accuracy: 0.6668 - val_loss: 0.6365 - val_precision: 0.0000e+00 - val_recall: 0.0000e+00 - learning_rate: 0.0010\n",
            "Epoch 3/20\n",
            "\u001b[1m690/693\u001b[0m \u001b[32m━━━━━━━━━━━━━━━━━━━\u001b[0m\u001b[37m━\u001b[0m \u001b[1m0s\u001b[0m 8ms/step - accuracy: 0.6703 - loss: 0.6383 - precision: 0.0000e+00 - recall: 0.0000e+00\n",
            "Epoch 3: val_loss did not improve from 0.63651\n",
            "\u001b[1m693/693\u001b[0m \u001b[32m━━━━━━━━━━━━━━━━━━━━\u001b[0m\u001b[37m\u001b[0m \u001b[1m10s\u001b[0m 12ms/step - accuracy: 0.6702 - loss: 0.6383 - precision: 0.0000e+00 - recall: 0.0000e+00 - val_accuracy: 0.6668 - val_loss: 0.6375 - val_precision: 0.0000e+00 - val_recall: 0.0000e+00 - learning_rate: 0.0010\n",
            "Epoch 4/20\n",
            "\u001b[1m687/693\u001b[0m \u001b[32m━━━━━━━━━━━━━━━━━━━\u001b[0m\u001b[37m━\u001b[0m \u001b[1m0s\u001b[0m 7ms/step - accuracy: 0.6698 - loss: 0.6386 - precision: 0.0000e+00 - recall: 0.0000e+00\n",
            "Epoch 4: val_loss did not improve from 0.63651\n",
            "\u001b[1m693/693\u001b[0m \u001b[32m━━━━━━━━━━━━━━━━━━━━\u001b[0m\u001b[37m\u001b[0m \u001b[1m6s\u001b[0m 9ms/step - accuracy: 0.6698 - loss: 0.6386 - precision: 0.0000e+00 - recall: 0.0000e+00 - val_accuracy: 0.6668 - val_loss: 0.6377 - val_precision: 0.0000e+00 - val_recall: 0.0000e+00 - learning_rate: 0.0010\n",
            "Epoch 5/20\n",
            "\u001b[1m689/693\u001b[0m \u001b[32m━━━━━━━━━━━━━━━━━━━\u001b[0m\u001b[37m━\u001b[0m \u001b[1m0s\u001b[0m 7ms/step - accuracy: 0.6741 - loss: 0.6339 - precision: 0.0000e+00 - recall: 0.0000e+00\n",
            "Epoch 5: val_loss did not improve from 0.63651\n",
            "\n",
            "Epoch 5: ReduceLROnPlateau reducing learning rate to 0.0005000000237487257.\n",
            "\u001b[1m693/693\u001b[0m \u001b[32m━━━━━━━━━━━━━━━━━━━━\u001b[0m\u001b[37m\u001b[0m \u001b[1m11s\u001b[0m 9ms/step - accuracy: 0.6740 - loss: 0.6340 - precision: 0.0000e+00 - recall: 0.0000e+00 - val_accuracy: 0.6668 - val_loss: 0.6370 - val_precision: 0.0000e+00 - val_recall: 0.0000e+00 - learning_rate: 0.0010\n",
            "Epoch 6/20\n",
            "\u001b[1m690/693\u001b[0m \u001b[32m━━━━━━━━━━━━━━━━━━━\u001b[0m\u001b[37m━\u001b[0m \u001b[1m0s\u001b[0m 9ms/step - accuracy: 0.6675 - loss: 0.6370 - precision: 0.0000e+00 - recall: 0.0000e+00\n",
            "Epoch 6: val_loss did not improve from 0.63651\n",
            "\u001b[1m693/693\u001b[0m \u001b[32m━━━━━━━━━━━━━━━━━━━━\u001b[0m\u001b[37m\u001b[0m \u001b[1m12s\u001b[0m 12ms/step - accuracy: 0.6675 - loss: 0.6370 - precision: 0.0000e+00 - recall: 0.0000e+00 - val_accuracy: 0.6668 - val_loss: 0.6367 - val_precision: 0.0000e+00 - val_recall: 0.0000e+00 - learning_rate: 5.0000e-04\n",
            "Epoch 7/20\n",
            "\u001b[1m692/693\u001b[0m \u001b[32m━━━━━━━━━━━━━━━━━━━\u001b[0m\u001b[37m━\u001b[0m \u001b[1m0s\u001b[0m 7ms/step - accuracy: 0.6661 - loss: 0.6376 - precision: 0.0000e+00 - recall: 0.0000e+00\n",
            "Epoch 7: val_loss improved from 0.63651 to 0.63645, saving model to best_model.keras\n",
            "\u001b[1m693/693\u001b[0m \u001b[32m━━━━━━━━━━━━━━━━━━━━\u001b[0m\u001b[37m\u001b[0m \u001b[1m7s\u001b[0m 10ms/step - accuracy: 0.6661 - loss: 0.6376 - precision: 0.0000e+00 - recall: 0.0000e+00 - val_accuracy: 0.6668 - val_loss: 0.6365 - val_precision: 0.0000e+00 - val_recall: 0.0000e+00 - learning_rate: 5.0000e-04\n",
            "Epoch 8/20\n",
            "\u001b[1m691/693\u001b[0m \u001b[32m━━━━━━━━━━━━━━━━━━━\u001b[0m\u001b[37m━\u001b[0m \u001b[1m0s\u001b[0m 8ms/step - accuracy: 0.6671 - loss: 0.6368 - precision: 0.0000e+00 - recall: 0.0000e+00\n",
            "Epoch 8: val_loss improved from 0.63645 to 0.63645, saving model to best_model.keras\n",
            "\n",
            "Epoch 8: ReduceLROnPlateau reducing learning rate to 0.0002500000118743628.\n",
            "\u001b[1m693/693\u001b[0m \u001b[32m━━━━━━━━━━━━━━━━━━━━\u001b[0m\u001b[37m\u001b[0m \u001b[1m8s\u001b[0m 11ms/step - accuracy: 0.6671 - loss: 0.6368 - precision: 0.0000e+00 - recall: 0.0000e+00 - val_accuracy: 0.6668 - val_loss: 0.6365 - val_precision: 0.0000e+00 - val_recall: 0.0000e+00 - learning_rate: 5.0000e-04\n",
            "Epoch 9/20\n",
            "\u001b[1m687/693\u001b[0m \u001b[32m━━━━━━━━━━━━━━━━━━━\u001b[0m\u001b[37m━\u001b[0m \u001b[1m0s\u001b[0m 8ms/step - accuracy: 0.6632 - loss: 0.6389 - precision: 0.0000e+00 - recall: 0.0000e+00\n",
            "Epoch 9: val_loss did not improve from 0.63645\n",
            "\u001b[1m693/693\u001b[0m \u001b[32m━━━━━━━━━━━━━━━━━━━━\u001b[0m\u001b[37m\u001b[0m \u001b[1m10s\u001b[0m 10ms/step - accuracy: 0.6633 - loss: 0.6389 - precision: 0.0000e+00 - recall: 0.0000e+00 - val_accuracy: 0.6668 - val_loss: 0.6365 - val_precision: 0.0000e+00 - val_recall: 0.0000e+00 - learning_rate: 2.5000e-04\n",
            "Epoch 10/20\n",
            "\u001b[1m691/693\u001b[0m \u001b[32m━━━━━━━━━━━━━━━━━━━\u001b[0m\u001b[37m━\u001b[0m \u001b[1m0s\u001b[0m 7ms/step - accuracy: 0.6650 - loss: 0.6378 - precision: 0.0000e+00 - recall: 0.0000e+00\n",
            "Epoch 10: val_loss did not improve from 0.63645\n",
            "\u001b[1m693/693\u001b[0m \u001b[32m━━━━━━━━━━━━━━━━━━━━\u001b[0m\u001b[37m\u001b[0m \u001b[1m6s\u001b[0m 9ms/step - accuracy: 0.6650 - loss: 0.6378 - precision: 0.0000e+00 - recall: 0.0000e+00 - val_accuracy: 0.6668 - val_loss: 0.6365 - val_precision: 0.0000e+00 - val_recall: 0.0000e+00 - learning_rate: 2.5000e-04\n",
            "Epoch 11/20\n",
            "\u001b[1m692/693\u001b[0m \u001b[32m━━━━━━━━━━━━━━━━━━━\u001b[0m\u001b[37m━\u001b[0m \u001b[1m0s\u001b[0m 7ms/step - accuracy: 0.6660 - loss: 0.6369 - precision: 0.0000e+00 - recall: 0.0000e+00\n",
            "Epoch 11: val_loss did not improve from 0.63645\n",
            "\n",
            "Epoch 11: ReduceLROnPlateau reducing learning rate to 0.0001250000059371814.\n",
            "\u001b[1m693/693\u001b[0m \u001b[32m━━━━━━━━━━━━━━━━━━━━\u001b[0m\u001b[37m\u001b[0m \u001b[1m10s\u001b[0m 9ms/step - accuracy: 0.6660 - loss: 0.6369 - precision: 0.0000e+00 - recall: 0.0000e+00 - val_accuracy: 0.6668 - val_loss: 0.6365 - val_precision: 0.0000e+00 - val_recall: 0.0000e+00 - learning_rate: 2.5000e-04\n",
            "Epoch 12/20\n",
            "\u001b[1m693/693\u001b[0m \u001b[32m━━━━━━━━━━━━━━━━━━━━\u001b[0m\u001b[37m\u001b[0m \u001b[1m0s\u001b[0m 8ms/step - accuracy: 0.6626 - loss: 0.6393 - precision: 0.0000e+00 - recall: 0.0000e+00\n",
            "Epoch 12: val_loss did not improve from 0.63645\n",
            "\u001b[1m693/693\u001b[0m \u001b[32m━━━━━━━━━━━━━━━━━━━━\u001b[0m\u001b[37m\u001b[0m \u001b[1m8s\u001b[0m 12ms/step - accuracy: 0.6627 - loss: 0.6393 - precision: 0.0000e+00 - recall: 0.0000e+00 - val_accuracy: 0.6668 - val_loss: 0.6365 - val_precision: 0.0000e+00 - val_recall: 0.0000e+00 - learning_rate: 1.2500e-04\n",
            "Epoch 13/20\n",
            "\u001b[1m690/693\u001b[0m \u001b[32m━━━━━━━━━━━━━━━━━━━\u001b[0m\u001b[37m━\u001b[0m \u001b[1m0s\u001b[0m 7ms/step - accuracy: 0.6737 - loss: 0.6318 - precision: 0.0000e+00 - recall: 0.0000e+00\n",
            "Epoch 13: val_loss did not improve from 0.63645\n",
            "\u001b[1m693/693\u001b[0m \u001b[32m━━━━━━━━━━━━━━━━━━━━\u001b[0m\u001b[37m\u001b[0m \u001b[1m6s\u001b[0m 9ms/step - accuracy: 0.6737 - loss: 0.6318 - precision: 0.0000e+00 - recall: 0.0000e+00 - val_accuracy: 0.6668 - val_loss: 0.6365 - val_precision: 0.0000e+00 - val_recall: 0.0000e+00 - learning_rate: 1.2500e-04\n",
            "Epoch 13: early stopping\n",
            "Restoring model weights from the end of the best epoch: 8.\n"
          ]
        },
        {
          "output_type": "execute_result",
          "data": {
            "text/plain": [
              "<keras.src.callbacks.history.History at 0x7d83c99d0b90>"
            ]
          },
          "metadata": {},
          "execution_count": 8
        }
      ]
    },
    {
      "cell_type": "code",
      "source": [
        "best_efficientnetb0 = load_model(\"best_model.keras\", custom_objects={\n",
        "    'recall': recall,\n",
        "    'precision': precision\n",
        "})\n",
        "\n",
        "best_efficientnetb0.evaluate(X_test, y_test)"
      ],
      "metadata": {
        "id": "BAW8iwfmvEKm",
        "colab": {
          "base_uri": "https://localhost:8080/"
        },
        "outputId": "8e1b8c8a-2989-4cbb-c0da-f118082fb1e4"
      },
      "execution_count": null,
      "outputs": [
        {
          "output_type": "stream",
          "name": "stdout",
          "text": [
            "\u001b[1m116/116\u001b[0m \u001b[32m━━━━━━━━━━━━━━━━━━━━\u001b[0m\u001b[37m\u001b[0m \u001b[1m13s\u001b[0m 27ms/step - accuracy: 0.6811 - loss: 0.6266 - precision: 0.0000e+00 - recall: 0.0000e+00\n"
          ]
        },
        {
          "output_type": "execute_result",
          "data": {
            "text/plain": [
              "[0.6364513039588928, 0.0, 0.0, 0.6667569279670715]"
            ]
          },
          "metadata": {},
          "execution_count": 9
        }
      ]
    },
    {
      "cell_type": "markdown",
      "source": [
        "## MobileNetV2 - Shirina"
      ],
      "metadata": {
        "id": "DKgbUvu-GTkh"
      }
    },
    {
      "cell_type": "code",
      "source": [
        "def create_mobilenetv2():\n",
        "    base_model = MobileNetV2(input_shape=input_shape, include_top=False, weights='imagenet')\n",
        "    base_model.trainable = False\n",
        "\n",
        "    inputs = Input(shape=input_shape)\n",
        "    x = base_model(inputs, training=False)\n",
        "    x = GlobalAveragePooling2D()(x)\n",
        "    x = Dense(64, activation='relu')(x)\n",
        "    x = Dropout(0.5)(x)\n",
        "    outputs = Dense(1, activation='sigmoid')(x)\n",
        "\n",
        "    model = Model(inputs, outputs)\n",
        "\n",
        "    return model"
      ],
      "metadata": {
        "id": "JiRgD5YMseO2"
      },
      "execution_count": null,
      "outputs": []
    },
    {
      "cell_type": "code",
      "source": [
        "mobilenetv2 = create_mobilenetv2()\n",
        "\n",
        "callbacks = [\n",
        "    ModelCheckpoint(\"best_model.keras\", save_best_only=True, monitor=\"val_loss\", verbose=1),\n",
        "    ReduceLROnPlateau(monitor=\"val_loss\", factor=0.5, patience=3, min_lr=1e-6, verbose=1),\n",
        "    EarlyStopping(monitor=\"val_loss\", patience=5, restore_best_weights=True, verbose=1),\n",
        "]\n",
        "\n",
        "mobilenetv2.compile(\n",
        "    optimizer='adam',\n",
        "    loss='binary_crossentropy',\n",
        "    metrics=[recall, precision, 'accuracy']\n",
        ")\n",
        "\n",
        "mobilenetv2.fit(X_train, y_train, validation_data=(X_val, y_val), batch_size=16, epochs=50, callbacks=callbacks)"
      ],
      "metadata": {
        "colab": {
          "base_uri": "https://localhost:8080/"
        },
        "id": "1yg1rbsx0kkM",
        "outputId": "5a7a91f4-322e-4e86-de9a-53da4d0c1bec",
        "collapsed": true
      },
      "execution_count": null,
      "outputs": [
        {
          "output_type": "stream",
          "name": "stderr",
          "text": [
            "<ipython-input-10-7b699983fec9>:2: UserWarning: `input_shape` is undefined or non-square, or `rows` is not in [96, 128, 160, 192, 224]. Weights for input shape (224, 224) will be loaded as the default.\n",
            "  base_model = MobileNetV2(input_shape=input_shape, include_top=False, weights='imagenet')\n"
          ]
        },
        {
          "output_type": "stream",
          "name": "stdout",
          "text": [
            "Epoch 1/50\n",
            "\u001b[1m693/693\u001b[0m \u001b[32m━━━━━━━━━━━━━━━━━━━━\u001b[0m\u001b[37m\u001b[0m \u001b[1m0s\u001b[0m 9ms/step - accuracy: 0.6719 - loss: 0.6056 - precision: 0.5175 - recall: 0.1285\n",
            "Epoch 1: val_loss improved from inf to 0.51378, saving model to best_model.keras\n",
            "\u001b[1m693/693\u001b[0m \u001b[32m━━━━━━━━━━━━━━━━━━━━\u001b[0m\u001b[37m\u001b[0m \u001b[1m22s\u001b[0m 19ms/step - accuracy: 0.6720 - loss: 0.6056 - precision: 0.5178 - recall: 0.1287 - val_accuracy: 0.7545 - val_loss: 0.5138 - val_precision: 0.7051 - val_recall: 0.4525 - learning_rate: 0.0010\n",
            "Epoch 2/50\n",
            "\u001b[1m687/693\u001b[0m \u001b[32m━━━━━━━━━━━━━━━━━━━\u001b[0m\u001b[37m━\u001b[0m \u001b[1m0s\u001b[0m 6ms/step - accuracy: 0.7568 - loss: 0.5145 - precision: 0.7108 - recall: 0.4569\n",
            "Epoch 2: val_loss improved from 0.51378 to 0.49678, saving model to best_model.keras\n",
            "\u001b[1m693/693\u001b[0m \u001b[32m━━━━━━━━━━━━━━━━━━━━\u001b[0m\u001b[37m\u001b[0m \u001b[1m6s\u001b[0m 8ms/step - accuracy: 0.7568 - loss: 0.5145 - precision: 0.7108 - recall: 0.4570 - val_accuracy: 0.7607 - val_loss: 0.4968 - val_precision: 0.7433 - val_recall: 0.4305 - learning_rate: 0.0010\n",
            "Epoch 3/50\n",
            "\u001b[1m688/693\u001b[0m \u001b[32m━━━━━━━━━━━━━━━━━━━\u001b[0m\u001b[37m━\u001b[0m \u001b[1m0s\u001b[0m 6ms/step - accuracy: 0.7666 - loss: 0.4949 - precision: 0.7335 - recall: 0.4725\n",
            "Epoch 3: val_loss improved from 0.49678 to 0.48797, saving model to best_model.keras\n",
            "\u001b[1m693/693\u001b[0m \u001b[32m━━━━━━━━━━━━━━━━━━━━\u001b[0m\u001b[37m\u001b[0m \u001b[1m7s\u001b[0m 10ms/step - accuracy: 0.7666 - loss: 0.4949 - precision: 0.7335 - recall: 0.4726 - val_accuracy: 0.7650 - val_loss: 0.4880 - val_precision: 0.7379 - val_recall: 0.4574 - learning_rate: 0.0010\n",
            "Epoch 4/50\n",
            "\u001b[1m684/693\u001b[0m \u001b[32m━━━━━━━━━━━━━━━━━━━\u001b[0m\u001b[37m━\u001b[0m \u001b[1m0s\u001b[0m 6ms/step - accuracy: 0.7711 - loss: 0.4888 - precision: 0.7348 - recall: 0.4769\n",
            "Epoch 4: val_loss improved from 0.48797 to 0.47879, saving model to best_model.keras\n",
            "\u001b[1m693/693\u001b[0m \u001b[32m━━━━━━━━━━━━━━━━━━━━\u001b[0m\u001b[37m\u001b[0m \u001b[1m6s\u001b[0m 8ms/step - accuracy: 0.7711 - loss: 0.4887 - precision: 0.7350 - recall: 0.4770 - val_accuracy: 0.7704 - val_loss: 0.4788 - val_precision: 0.7557 - val_recall: 0.4598 - learning_rate: 0.0010\n",
            "Epoch 5/50\n",
            "\u001b[1m689/693\u001b[0m \u001b[32m━━━━━━━━━━━━━━━━━━━\u001b[0m\u001b[37m━\u001b[0m \u001b[1m0s\u001b[0m 6ms/step - accuracy: 0.7706 - loss: 0.4860 - precision: 0.7462 - recall: 0.4911\n",
            "Epoch 5: val_loss improved from 0.47879 to 0.47324, saving model to best_model.keras\n",
            "\u001b[1m693/693\u001b[0m \u001b[32m━━━━━━━━━━━━━━━━━━━━\u001b[0m\u001b[37m\u001b[0m \u001b[1m7s\u001b[0m 10ms/step - accuracy: 0.7706 - loss: 0.4859 - precision: 0.7462 - recall: 0.4911 - val_accuracy: 0.7748 - val_loss: 0.4732 - val_precision: 0.7622 - val_recall: 0.4712 - learning_rate: 0.0010\n",
            "Epoch 6/50\n",
            "\u001b[1m686/693\u001b[0m \u001b[32m━━━━━━━━━━━━━━━━━━━\u001b[0m\u001b[37m━\u001b[0m \u001b[1m0s\u001b[0m 6ms/step - accuracy: 0.7765 - loss: 0.4809 - precision: 0.7543 - recall: 0.4903\n",
            "Epoch 6: val_loss improved from 0.47324 to 0.46855, saving model to best_model.keras\n",
            "\u001b[1m693/693\u001b[0m \u001b[32m━━━━━━━━━━━━━━━━━━━━\u001b[0m\u001b[37m\u001b[0m \u001b[1m6s\u001b[0m 8ms/step - accuracy: 0.7765 - loss: 0.4808 - precision: 0.7544 - recall: 0.4904 - val_accuracy: 0.7772 - val_loss: 0.4685 - val_precision: 0.7506 - val_recall: 0.4963 - learning_rate: 0.0010\n",
            "Epoch 7/50\n",
            "\u001b[1m693/693\u001b[0m \u001b[32m━━━━━━━━━━━━━━━━━━━━\u001b[0m\u001b[37m\u001b[0m \u001b[1m0s\u001b[0m 6ms/step - accuracy: 0.7808 - loss: 0.4666 - precision: 0.7562 - recall: 0.5256\n",
            "Epoch 7: val_loss improved from 0.46855 to 0.46353, saving model to best_model.keras\n",
            "\u001b[1m693/693\u001b[0m \u001b[32m━━━━━━━━━━━━━━━━━━━━\u001b[0m\u001b[37m\u001b[0m \u001b[1m7s\u001b[0m 10ms/step - accuracy: 0.7808 - loss: 0.4666 - precision: 0.7562 - recall: 0.5256 - val_accuracy: 0.7823 - val_loss: 0.4635 - val_precision: 0.7720 - val_recall: 0.4923 - learning_rate: 0.0010\n",
            "Epoch 8/50\n",
            "\u001b[1m692/693\u001b[0m \u001b[32m━━━━━━━━━━━━━━━━━━━\u001b[0m\u001b[37m━\u001b[0m \u001b[1m0s\u001b[0m 6ms/step - accuracy: 0.7898 - loss: 0.4513 - precision: 0.7677 - recall: 0.5109\n",
            "Epoch 8: val_loss improved from 0.46353 to 0.45999, saving model to best_model.keras\n",
            "\u001b[1m693/693\u001b[0m \u001b[32m━━━━━━━━━━━━━━━━━━━━\u001b[0m\u001b[37m\u001b[0m \u001b[1m6s\u001b[0m 8ms/step - accuracy: 0.7898 - loss: 0.4513 - precision: 0.7677 - recall: 0.5109 - val_accuracy: 0.7859 - val_loss: 0.4600 - val_precision: 0.8064 - val_recall: 0.4703 - learning_rate: 0.0010\n",
            "Epoch 9/50\n",
            "\u001b[1m691/693\u001b[0m \u001b[32m━━━━━━━━━━━━━━━━━━━\u001b[0m\u001b[37m━\u001b[0m \u001b[1m0s\u001b[0m 6ms/step - accuracy: 0.7917 - loss: 0.4531 - precision: 0.7799 - recall: 0.5150\n",
            "Epoch 9: val_loss improved from 0.45999 to 0.45908, saving model to best_model.keras\n",
            "\u001b[1m693/693\u001b[0m \u001b[32m━━━━━━━━━━━━━━━━━━━━\u001b[0m\u001b[37m\u001b[0m \u001b[1m11s\u001b[0m 9ms/step - accuracy: 0.7917 - loss: 0.4531 - precision: 0.7799 - recall: 0.5150 - val_accuracy: 0.7818 - val_loss: 0.4591 - val_precision: 0.7385 - val_recall: 0.5345 - learning_rate: 0.0010\n",
            "Epoch 10/50\n",
            "\u001b[1m688/693\u001b[0m \u001b[32m━━━━━━━━━━━━━━━━━━━\u001b[0m\u001b[37m━\u001b[0m \u001b[1m0s\u001b[0m 6ms/step - accuracy: 0.7944 - loss: 0.4510 - precision: 0.7803 - recall: 0.5403\n",
            "Epoch 10: val_loss improved from 0.45908 to 0.45442, saving model to best_model.keras\n",
            "\u001b[1m693/693\u001b[0m \u001b[32m━━━━━━━━━━━━━━━━━━━━\u001b[0m\u001b[37m\u001b[0m \u001b[1m6s\u001b[0m 8ms/step - accuracy: 0.7944 - loss: 0.4510 - precision: 0.7803 - recall: 0.5402 - val_accuracy: 0.7883 - val_loss: 0.4544 - val_precision: 0.7889 - val_recall: 0.4980 - learning_rate: 0.0010\n",
            "Epoch 11/50\n",
            "\u001b[1m692/693\u001b[0m \u001b[32m━━━━━━━━━━━━━━━━━━━\u001b[0m\u001b[37m━\u001b[0m \u001b[1m0s\u001b[0m 7ms/step - accuracy: 0.7951 - loss: 0.4458 - precision: 0.7721 - recall: 0.5463\n",
            "Epoch 11: val_loss improved from 0.45442 to 0.45086, saving model to best_model.keras\n",
            "\u001b[1m693/693\u001b[0m \u001b[32m━━━━━━━━━━━━━━━━━━━━\u001b[0m\u001b[37m\u001b[0m \u001b[1m6s\u001b[0m 9ms/step - accuracy: 0.7951 - loss: 0.4458 - precision: 0.7721 - recall: 0.5462 - val_accuracy: 0.7905 - val_loss: 0.4509 - val_precision: 0.7831 - val_recall: 0.5134 - learning_rate: 0.0010\n",
            "Epoch 12/50\n",
            "\u001b[1m687/693\u001b[0m \u001b[32m━━━━━━━━━━━━━━━━━━━\u001b[0m\u001b[37m━\u001b[0m \u001b[1m0s\u001b[0m 7ms/step - accuracy: 0.7961 - loss: 0.4382 - precision: 0.7727 - recall: 0.5385\n",
            "Epoch 12: val_loss improved from 0.45086 to 0.44888, saving model to best_model.keras\n",
            "\u001b[1m693/693\u001b[0m \u001b[32m━━━━━━━━━━━━━━━━━━━━\u001b[0m\u001b[37m\u001b[0m \u001b[1m10s\u001b[0m 9ms/step - accuracy: 0.7961 - loss: 0.4382 - precision: 0.7727 - recall: 0.5384 - val_accuracy: 0.7924 - val_loss: 0.4489 - val_precision: 0.7704 - val_recall: 0.5370 - learning_rate: 0.0010\n",
            "Epoch 13/50\n",
            "\u001b[1m685/693\u001b[0m \u001b[32m━━━━━━━━━━━━━━━━━━━\u001b[0m\u001b[37m━\u001b[0m \u001b[1m0s\u001b[0m 6ms/step - accuracy: 0.8017 - loss: 0.4322 - precision: 0.7837 - recall: 0.5558\n",
            "Epoch 13: val_loss did not improve from 0.44888\n",
            "\u001b[1m693/693\u001b[0m \u001b[32m━━━━━━━━━━━━━━━━━━━━\u001b[0m\u001b[37m\u001b[0m \u001b[1m5s\u001b[0m 8ms/step - accuracy: 0.8016 - loss: 0.4323 - precision: 0.7836 - recall: 0.5557 - val_accuracy: 0.7899 - val_loss: 0.4505 - val_precision: 0.8182 - val_recall: 0.4752 - learning_rate: 0.0010\n",
            "Epoch 14/50\n",
            "\u001b[1m689/693\u001b[0m \u001b[32m━━━━━━━━━━━━━━━━━━━\u001b[0m\u001b[37m━\u001b[0m \u001b[1m0s\u001b[0m 6ms/step - accuracy: 0.7938 - loss: 0.4361 - precision: 0.7667 - recall: 0.5423\n",
            "Epoch 14: val_loss did not improve from 0.44888\n",
            "\u001b[1m693/693\u001b[0m \u001b[32m━━━━━━━━━━━━━━━━━━━━\u001b[0m\u001b[37m\u001b[0m \u001b[1m10s\u001b[0m 8ms/step - accuracy: 0.7938 - loss: 0.4361 - precision: 0.7667 - recall: 0.5424 - val_accuracy: 0.7948 - val_loss: 0.4491 - val_precision: 0.7895 - val_recall: 0.5240 - learning_rate: 0.0010\n",
            "Epoch 15/50\n",
            "\u001b[1m687/693\u001b[0m \u001b[32m━━━━━━━━━━━━━━━━━━━\u001b[0m\u001b[37m━\u001b[0m \u001b[1m0s\u001b[0m 6ms/step - accuracy: 0.8004 - loss: 0.4268 - precision: 0.7753 - recall: 0.5504\n",
            "Epoch 15: val_loss improved from 0.44888 to 0.44489, saving model to best_model.keras\n",
            "\u001b[1m693/693\u001b[0m \u001b[32m━━━━━━━━━━━━━━━━━━━━\u001b[0m\u001b[37m\u001b[0m \u001b[1m6s\u001b[0m 9ms/step - accuracy: 0.8004 - loss: 0.4269 - precision: 0.7754 - recall: 0.5505 - val_accuracy: 0.7924 - val_loss: 0.4449 - val_precision: 0.7809 - val_recall: 0.5240 - learning_rate: 0.0010\n",
            "Epoch 16/50\n",
            "\u001b[1m693/693\u001b[0m \u001b[32m━━━━━━━━━━━━━━━━━━━━\u001b[0m\u001b[37m\u001b[0m \u001b[1m0s\u001b[0m 6ms/step - accuracy: 0.7989 - loss: 0.4298 - precision: 0.7831 - recall: 0.5453\n",
            "Epoch 16: val_loss improved from 0.44489 to 0.44428, saving model to best_model.keras\n",
            "\u001b[1m693/693\u001b[0m \u001b[32m━━━━━━━━━━━━━━━━━━━━\u001b[0m\u001b[37m\u001b[0m \u001b[1m10s\u001b[0m 8ms/step - accuracy: 0.7989 - loss: 0.4298 - precision: 0.7831 - recall: 0.5453 - val_accuracy: 0.7962 - val_loss: 0.4443 - val_precision: 0.7987 - val_recall: 0.5191 - learning_rate: 0.0010\n",
            "Epoch 17/50\n",
            "\u001b[1m690/693\u001b[0m \u001b[32m━━━━━━━━━━━━━━━━━━━\u001b[0m\u001b[37m━\u001b[0m \u001b[1m0s\u001b[0m 6ms/step - accuracy: 0.8070 - loss: 0.4262 - precision: 0.7900 - recall: 0.5587\n",
            "Epoch 17: val_loss did not improve from 0.44428\n",
            "\u001b[1m693/693\u001b[0m \u001b[32m━━━━━━━━━━━━━━━━━━━━\u001b[0m\u001b[37m\u001b[0m \u001b[1m10s\u001b[0m 7ms/step - accuracy: 0.8070 - loss: 0.4262 - precision: 0.7899 - recall: 0.5587 - val_accuracy: 0.7986 - val_loss: 0.4447 - val_precision: 0.8277 - val_recall: 0.4996 - learning_rate: 0.0010\n",
            "Epoch 18/50\n",
            "\u001b[1m689/693\u001b[0m \u001b[32m━━━━━━━━━━━━━━━━━━━\u001b[0m\u001b[37m━\u001b[0m \u001b[1m0s\u001b[0m 6ms/step - accuracy: 0.8115 - loss: 0.4177 - precision: 0.8014 - recall: 0.5757\n",
            "Epoch 18: val_loss improved from 0.44428 to 0.44287, saving model to best_model.keras\n",
            "\u001b[1m693/693\u001b[0m \u001b[32m━━━━━━━━━━━━━━━━━━━━\u001b[0m\u001b[37m\u001b[0m \u001b[1m6s\u001b[0m 9ms/step - accuracy: 0.8114 - loss: 0.4178 - precision: 0.8012 - recall: 0.5756 - val_accuracy: 0.7978 - val_loss: 0.4429 - val_precision: 0.8201 - val_recall: 0.5037 - learning_rate: 0.0010\n",
            "Epoch 19/50\n",
            "\u001b[1m688/693\u001b[0m \u001b[32m━━━━━━━━━━━━━━━━━━━\u001b[0m\u001b[37m━\u001b[0m \u001b[1m0s\u001b[0m 6ms/step - accuracy: 0.7999 - loss: 0.4271 - precision: 0.7839 - recall: 0.5571\n",
            "Epoch 19: val_loss did not improve from 0.44287\n",
            "\u001b[1m693/693\u001b[0m \u001b[32m━━━━━━━━━━━━━━━━━━━━\u001b[0m\u001b[37m\u001b[0m \u001b[1m9s\u001b[0m 7ms/step - accuracy: 0.7999 - loss: 0.4271 - precision: 0.7838 - recall: 0.5571 - val_accuracy: 0.7964 - val_loss: 0.4431 - val_precision: 0.7997 - val_recall: 0.5191 - learning_rate: 0.0010\n",
            "Epoch 20/50\n",
            "\u001b[1m687/693\u001b[0m \u001b[32m━━━━━━━━━━━━━━━━━━━\u001b[0m\u001b[37m━\u001b[0m \u001b[1m0s\u001b[0m 6ms/step - accuracy: 0.8054 - loss: 0.4316 - precision: 0.7854 - recall: 0.5748\n",
            "Epoch 20: val_loss did not improve from 0.44287\n",
            "\u001b[1m693/693\u001b[0m \u001b[32m━━━━━━━━━━━━━━━━━━━━\u001b[0m\u001b[37m\u001b[0m \u001b[1m10s\u001b[0m 7ms/step - accuracy: 0.8055 - loss: 0.4316 - precision: 0.7855 - recall: 0.5748 - val_accuracy: 0.7951 - val_loss: 0.4445 - val_precision: 0.7948 - val_recall: 0.5191 - learning_rate: 0.0010\n",
            "Epoch 21/50\n",
            "\u001b[1m690/693\u001b[0m \u001b[32m━━━━━━━━━━━━━━━━━━━\u001b[0m\u001b[37m━\u001b[0m \u001b[1m0s\u001b[0m 6ms/step - accuracy: 0.8071 - loss: 0.4210 - precision: 0.7821 - recall: 0.5949\n",
            "Epoch 21: val_loss improved from 0.44287 to 0.44043, saving model to best_model.keras\n",
            "\u001b[1m693/693\u001b[0m \u001b[32m━━━━━━━━━━━━━━━━━━━━\u001b[0m\u001b[37m\u001b[0m \u001b[1m6s\u001b[0m 9ms/step - accuracy: 0.8071 - loss: 0.4210 - precision: 0.7821 - recall: 0.5949 - val_accuracy: 0.7997 - val_loss: 0.4404 - val_precision: 0.7969 - val_recall: 0.5353 - learning_rate: 0.0010\n",
            "Epoch 22/50\n",
            "\u001b[1m692/693\u001b[0m \u001b[32m━━━━━━━━━━━━━━━━━━━\u001b[0m\u001b[37m━\u001b[0m \u001b[1m0s\u001b[0m 6ms/step - accuracy: 0.8068 - loss: 0.4245 - precision: 0.7891 - recall: 0.5721\n",
            "Epoch 22: val_loss did not improve from 0.44043\n",
            "\u001b[1m693/693\u001b[0m \u001b[32m━━━━━━━━━━━━━━━━━━━━\u001b[0m\u001b[37m\u001b[0m \u001b[1m9s\u001b[0m 8ms/step - accuracy: 0.8068 - loss: 0.4245 - precision: 0.7891 - recall: 0.5721 - val_accuracy: 0.8005 - val_loss: 0.4453 - val_precision: 0.7446 - val_recall: 0.6109 - learning_rate: 0.0010\n",
            "Epoch 23/50\n",
            "\u001b[1m685/693\u001b[0m \u001b[32m━━━━━━━━━━━━━━━━━━━\u001b[0m\u001b[37m━\u001b[0m \u001b[1m0s\u001b[0m 6ms/step - accuracy: 0.8074 - loss: 0.4174 - precision: 0.7809 - recall: 0.5823\n",
            "Epoch 23: val_loss did not improve from 0.44043\n",
            "\u001b[1m693/693\u001b[0m \u001b[32m━━━━━━━━━━━━━━━━━━━━\u001b[0m\u001b[37m\u001b[0m \u001b[1m10s\u001b[0m 7ms/step - accuracy: 0.8073 - loss: 0.4175 - precision: 0.7808 - recall: 0.5821 - val_accuracy: 0.7962 - val_loss: 0.4430 - val_precision: 0.8283 - val_recall: 0.4898 - learning_rate: 0.0010\n",
            "Epoch 24/50\n",
            "\u001b[1m687/693\u001b[0m \u001b[32m━━━━━━━━━━━━━━━━━━━\u001b[0m\u001b[37m━\u001b[0m \u001b[1m0s\u001b[0m 6ms/step - accuracy: 0.8048 - loss: 0.4217 - precision: 0.7981 - recall: 0.5534\n",
            "Epoch 24: val_loss did not improve from 0.44043\n",
            "\n",
            "Epoch 24: ReduceLROnPlateau reducing learning rate to 0.0005000000237487257.\n",
            "\u001b[1m693/693\u001b[0m \u001b[32m━━━━━━━━━━━━━━━━━━━━\u001b[0m\u001b[37m\u001b[0m \u001b[1m6s\u001b[0m 9ms/step - accuracy: 0.8048 - loss: 0.4217 - precision: 0.7980 - recall: 0.5534 - val_accuracy: 0.7991 - val_loss: 0.4415 - val_precision: 0.7609 - val_recall: 0.5792 - learning_rate: 0.0010\n",
            "Epoch 25/50\n",
            "\u001b[1m688/693\u001b[0m \u001b[32m━━━━━━━━━━━━━━━━━━━\u001b[0m\u001b[37m━\u001b[0m \u001b[1m0s\u001b[0m 6ms/step - accuracy: 0.8123 - loss: 0.4101 - precision: 0.7874 - recall: 0.5962\n",
            "Epoch 25: val_loss did not improve from 0.44043\n",
            "\u001b[1m693/693\u001b[0m \u001b[32m━━━━━━━━━━━━━━━━━━━━\u001b[0m\u001b[37m\u001b[0m \u001b[1m10s\u001b[0m 8ms/step - accuracy: 0.8123 - loss: 0.4102 - precision: 0.7874 - recall: 0.5960 - val_accuracy: 0.8005 - val_loss: 0.4405 - val_precision: 0.8049 - val_recall: 0.5297 - learning_rate: 5.0000e-04\n",
            "Epoch 26/50\n",
            "\u001b[1m691/693\u001b[0m \u001b[32m━━━━━━━━━━━━━━━━━━━\u001b[0m\u001b[37m━\u001b[0m \u001b[1m0s\u001b[0m 7ms/step - accuracy: 0.8085 - loss: 0.4195 - precision: 0.8005 - recall: 0.5708\n",
            "Epoch 26: val_loss improved from 0.44043 to 0.44031, saving model to best_model.keras\n",
            "\u001b[1m693/693\u001b[0m \u001b[32m━━━━━━━━━━━━━━━━━━━━\u001b[0m\u001b[37m\u001b[0m \u001b[1m7s\u001b[0m 9ms/step - accuracy: 0.8085 - loss: 0.4195 - precision: 0.8005 - recall: 0.5708 - val_accuracy: 0.8024 - val_loss: 0.4403 - val_precision: 0.8120 - val_recall: 0.5297 - learning_rate: 5.0000e-04\n",
            "Epoch 27/50\n",
            "\u001b[1m693/693\u001b[0m \u001b[32m━━━━━━━━━━━━━━━━━━━━\u001b[0m\u001b[37m\u001b[0m \u001b[1m0s\u001b[0m 6ms/step - accuracy: 0.8026 - loss: 0.4270 - precision: 0.7890 - recall: 0.5595\n",
            "Epoch 27: val_loss improved from 0.44031 to 0.44025, saving model to best_model.keras\n",
            "\u001b[1m693/693\u001b[0m \u001b[32m━━━━━━━━━━━━━━━━━━━━\u001b[0m\u001b[37m\u001b[0m \u001b[1m10s\u001b[0m 9ms/step - accuracy: 0.8027 - loss: 0.4270 - precision: 0.7890 - recall: 0.5595 - val_accuracy: 0.8016 - val_loss: 0.4403 - val_precision: 0.7869 - val_recall: 0.5548 - learning_rate: 5.0000e-04\n",
            "Epoch 28/50\n",
            "\u001b[1m687/693\u001b[0m \u001b[32m━━━━━━━━━━━━━━━━━━━\u001b[0m\u001b[37m━\u001b[0m \u001b[1m0s\u001b[0m 6ms/step - accuracy: 0.8096 - loss: 0.4161 - precision: 0.7917 - recall: 0.5833\n",
            "Epoch 28: val_loss improved from 0.44025 to 0.43955, saving model to best_model.keras\n",
            "\u001b[1m693/693\u001b[0m \u001b[32m━━━━━━━━━━━━━━━━━━━━\u001b[0m\u001b[37m\u001b[0m \u001b[1m9s\u001b[0m 8ms/step - accuracy: 0.8096 - loss: 0.4161 - precision: 0.7917 - recall: 0.5833 - val_accuracy: 0.8021 - val_loss: 0.4396 - val_precision: 0.7790 - val_recall: 0.5670 - learning_rate: 5.0000e-04\n",
            "Epoch 29/50\n",
            "\u001b[1m685/693\u001b[0m \u001b[32m━━━━━━━━━━━━━━━━━━━\u001b[0m\u001b[37m━\u001b[0m \u001b[1m0s\u001b[0m 6ms/step - accuracy: 0.8078 - loss: 0.4219 - precision: 0.7808 - recall: 0.5967\n",
            "Epoch 29: val_loss did not improve from 0.43955\n",
            "\u001b[1m693/693\u001b[0m \u001b[32m━━━━━━━━━━━━━━━━━━━━\u001b[0m\u001b[37m\u001b[0m \u001b[1m10s\u001b[0m 7ms/step - accuracy: 0.8079 - loss: 0.4218 - precision: 0.7810 - recall: 0.5965 - val_accuracy: 0.8021 - val_loss: 0.4403 - val_precision: 0.7976 - val_recall: 0.5443 - learning_rate: 5.0000e-04\n",
            "Epoch 30/50\n",
            "\u001b[1m689/693\u001b[0m \u001b[32m━━━━━━━━━━━━━━━━━━━\u001b[0m\u001b[37m━\u001b[0m \u001b[1m0s\u001b[0m 6ms/step - accuracy: 0.8073 - loss: 0.4097 - precision: 0.7802 - recall: 0.5661\n",
            "Epoch 30: val_loss improved from 0.43955 to 0.43887, saving model to best_model.keras\n",
            "\u001b[1m693/693\u001b[0m \u001b[32m━━━━━━━━━━━━━━━━━━━━\u001b[0m\u001b[37m\u001b[0m \u001b[1m7s\u001b[0m 10ms/step - accuracy: 0.8073 - loss: 0.4097 - precision: 0.7803 - recall: 0.5663 - val_accuracy: 0.8008 - val_loss: 0.4389 - val_precision: 0.7699 - val_recall: 0.5735 - learning_rate: 5.0000e-04\n",
            "Epoch 31/50\n",
            "\u001b[1m688/693\u001b[0m \u001b[32m━━━━━━━━━━━━━━━━━━━\u001b[0m\u001b[37m━\u001b[0m \u001b[1m0s\u001b[0m 6ms/step - accuracy: 0.8077 - loss: 0.4121 - precision: 0.7865 - recall: 0.5966\n",
            "Epoch 31: val_loss did not improve from 0.43887\n",
            "\u001b[1m693/693\u001b[0m \u001b[32m━━━━━━━━━━━━━━━━━━━━\u001b[0m\u001b[37m\u001b[0m \u001b[1m9s\u001b[0m 7ms/step - accuracy: 0.8077 - loss: 0.4121 - precision: 0.7865 - recall: 0.5964 - val_accuracy: 0.7999 - val_loss: 0.4419 - val_precision: 0.7536 - val_recall: 0.5938 - learning_rate: 5.0000e-04\n",
            "Epoch 32/50\n",
            "\u001b[1m693/693\u001b[0m \u001b[32m━━━━━━━━━━━━━━━━━━━━\u001b[0m\u001b[37m\u001b[0m \u001b[1m0s\u001b[0m 7ms/step - accuracy: 0.8022 - loss: 0.4231 - precision: 0.7765 - recall: 0.5741\n",
            "Epoch 32: val_loss improved from 0.43887 to 0.43797, saving model to best_model.keras\n",
            "\u001b[1m693/693\u001b[0m \u001b[32m━━━━━━━━━━━━━━━━━━━━\u001b[0m\u001b[37m\u001b[0m \u001b[1m7s\u001b[0m 9ms/step - accuracy: 0.8022 - loss: 0.4230 - precision: 0.7765 - recall: 0.5742 - val_accuracy: 0.8051 - val_loss: 0.4380 - val_precision: 0.8031 - val_recall: 0.5500 - learning_rate: 5.0000e-04\n",
            "Epoch 33/50\n",
            "\u001b[1m692/693\u001b[0m \u001b[32m━━━━━━━━━━━━━━━━━━━\u001b[0m\u001b[37m━\u001b[0m \u001b[1m0s\u001b[0m 6ms/step - accuracy: 0.8123 - loss: 0.4083 - precision: 0.7841 - recall: 0.5729\n",
            "Epoch 33: val_loss did not improve from 0.43797\n",
            "\u001b[1m693/693\u001b[0m \u001b[32m━━━━━━━━━━━━━━━━━━━━\u001b[0m\u001b[37m\u001b[0m \u001b[1m11s\u001b[0m 10ms/step - accuracy: 0.8123 - loss: 0.4083 - precision: 0.7841 - recall: 0.5729 - val_accuracy: 0.8032 - val_loss: 0.4395 - val_precision: 0.7806 - val_recall: 0.5695 - learning_rate: 5.0000e-04\n",
            "Epoch 34/50\n",
            "\u001b[1m691/693\u001b[0m \u001b[32m━━━━━━━━━━━━━━━━━━━\u001b[0m\u001b[37m━\u001b[0m \u001b[1m0s\u001b[0m 6ms/step - accuracy: 0.8099 - loss: 0.4124 - precision: 0.7883 - recall: 0.5883\n",
            "Epoch 34: val_loss did not improve from 0.43797\n",
            "\u001b[1m693/693\u001b[0m \u001b[32m━━━━━━━━━━━━━━━━━━━━\u001b[0m\u001b[37m\u001b[0m \u001b[1m5s\u001b[0m 7ms/step - accuracy: 0.8099 - loss: 0.4124 - precision: 0.7883 - recall: 0.5882 - val_accuracy: 0.8059 - val_loss: 0.4387 - val_precision: 0.8024 - val_recall: 0.5540 - learning_rate: 5.0000e-04\n",
            "Epoch 35/50\n",
            "\u001b[1m686/693\u001b[0m \u001b[32m━━━━━━━━━━━━━━━━━━━\u001b[0m\u001b[37m━\u001b[0m \u001b[1m0s\u001b[0m 6ms/step - accuracy: 0.8140 - loss: 0.4023 - precision: 0.7883 - recall: 0.5943\n",
            "Epoch 35: val_loss did not improve from 0.43797\n",
            "\n",
            "Epoch 35: ReduceLROnPlateau reducing learning rate to 0.0002500000118743628.\n",
            "\u001b[1m693/693\u001b[0m \u001b[32m━━━━━━━━━━━━━━━━━━━━\u001b[0m\u001b[37m\u001b[0m \u001b[1m11s\u001b[0m 8ms/step - accuracy: 0.8140 - loss: 0.4023 - precision: 0.7884 - recall: 0.5942 - val_accuracy: 0.8002 - val_loss: 0.4400 - val_precision: 0.8181 - val_recall: 0.5150 - learning_rate: 5.0000e-04\n",
            "Epoch 36/50\n",
            "\u001b[1m689/693\u001b[0m \u001b[32m━━━━━━━━━━━━━━━━━━━\u001b[0m\u001b[37m━\u001b[0m \u001b[1m0s\u001b[0m 6ms/step - accuracy: 0.8076 - loss: 0.4155 - precision: 0.8048 - recall: 0.5629\n",
            "Epoch 36: val_loss did not improve from 0.43797\n",
            "\u001b[1m693/693\u001b[0m \u001b[32m━━━━━━━━━━━━━━━━━━━━\u001b[0m\u001b[37m\u001b[0m \u001b[1m5s\u001b[0m 7ms/step - accuracy: 0.8076 - loss: 0.4155 - precision: 0.8047 - recall: 0.5630 - val_accuracy: 0.8059 - val_loss: 0.4381 - val_precision: 0.8096 - val_recall: 0.5459 - learning_rate: 2.5000e-04\n",
            "Epoch 37/50\n",
            "\u001b[1m688/693\u001b[0m \u001b[32m━━━━━━━━━━━━━━━━━━━\u001b[0m\u001b[37m━\u001b[0m \u001b[1m0s\u001b[0m 6ms/step - accuracy: 0.8151 - loss: 0.4035 - precision: 0.7914 - recall: 0.5831\n",
            "Epoch 37: val_loss improved from 0.43797 to 0.43759, saving model to best_model.keras\n",
            "\u001b[1m693/693\u001b[0m \u001b[32m━━━━━━━━━━━━━━━━━━━━\u001b[0m\u001b[37m\u001b[0m \u001b[1m11s\u001b[0m 8ms/step - accuracy: 0.8151 - loss: 0.4035 - precision: 0.7915 - recall: 0.5832 - val_accuracy: 0.8062 - val_loss: 0.4376 - val_precision: 0.7950 - val_recall: 0.5638 - learning_rate: 2.5000e-04\n",
            "Epoch 38/50\n",
            "\u001b[1m687/693\u001b[0m \u001b[32m━━━━━━━━━━━━━━━━━━━\u001b[0m\u001b[37m━\u001b[0m \u001b[1m0s\u001b[0m 7ms/step - accuracy: 0.8193 - loss: 0.3971 - precision: 0.7976 - recall: 0.6059\n",
            "Epoch 38: val_loss did not improve from 0.43759\n",
            "\u001b[1m693/693\u001b[0m \u001b[32m━━━━━━━━━━━━━━━━━━━━\u001b[0m\u001b[37m\u001b[0m \u001b[1m6s\u001b[0m 9ms/step - accuracy: 0.8193 - loss: 0.3973 - precision: 0.7976 - recall: 0.6058 - val_accuracy: 0.8054 - val_loss: 0.4381 - val_precision: 0.8107 - val_recall: 0.5426 - learning_rate: 2.5000e-04\n",
            "Epoch 39/50\n",
            "\u001b[1m690/693\u001b[0m \u001b[32m━━━━━━━━━━━━━━━━━━━\u001b[0m\u001b[37m━\u001b[0m \u001b[1m0s\u001b[0m 6ms/step - accuracy: 0.8159 - loss: 0.4043 - precision: 0.8016 - recall: 0.5872\n",
            "Epoch 39: val_loss did not improve from 0.43759\n",
            "\u001b[1m693/693\u001b[0m \u001b[32m━━━━━━━━━━━━━━━━━━━━\u001b[0m\u001b[37m\u001b[0m \u001b[1m11s\u001b[0m 9ms/step - accuracy: 0.8159 - loss: 0.4043 - precision: 0.8016 - recall: 0.5873 - val_accuracy: 0.8067 - val_loss: 0.4379 - val_precision: 0.7850 - val_recall: 0.5784 - learning_rate: 2.5000e-04\n",
            "Epoch 40/50\n",
            "\u001b[1m687/693\u001b[0m \u001b[32m━━━━━━━━━━━━━━━━━━━\u001b[0m\u001b[37m━\u001b[0m \u001b[1m0s\u001b[0m 6ms/step - accuracy: 0.8160 - loss: 0.4110 - precision: 0.8006 - recall: 0.6022\n",
            "Epoch 40: val_loss did not improve from 0.43759\n",
            "\n",
            "Epoch 40: ReduceLROnPlateau reducing learning rate to 0.0001250000059371814.\n",
            "\u001b[1m693/693\u001b[0m \u001b[32m━━━━━━━━━━━━━━━━━━━━\u001b[0m\u001b[37m\u001b[0m \u001b[1m5s\u001b[0m 8ms/step - accuracy: 0.8160 - loss: 0.4109 - precision: 0.8006 - recall: 0.6022 - val_accuracy: 0.8040 - val_loss: 0.4383 - val_precision: 0.8000 - val_recall: 0.5491 - learning_rate: 2.5000e-04\n",
            "Epoch 41/50\n",
            "\u001b[1m691/693\u001b[0m \u001b[32m━━━━━━━━━━━━━━━━━━━\u001b[0m\u001b[37m━\u001b[0m \u001b[1m0s\u001b[0m 7ms/step - accuracy: 0.8145 - loss: 0.4050 - precision: 0.7922 - recall: 0.5866\n",
            "Epoch 41: val_loss did not improve from 0.43759\n",
            "\u001b[1m693/693\u001b[0m \u001b[32m━━━━━━━━━━━━━━━━━━━━\u001b[0m\u001b[37m\u001b[0m \u001b[1m11s\u001b[0m 9ms/step - accuracy: 0.8145 - loss: 0.4050 - precision: 0.7922 - recall: 0.5866 - val_accuracy: 0.8043 - val_loss: 0.4379 - val_precision: 0.7900 - val_recall: 0.5621 - learning_rate: 1.2500e-04\n",
            "Epoch 42/50\n",
            "\u001b[1m691/693\u001b[0m \u001b[32m━━━━━━━━━━━━━━━━━━━\u001b[0m\u001b[37m━\u001b[0m \u001b[1m0s\u001b[0m 6ms/step - accuracy: 0.8153 - loss: 0.4025 - precision: 0.7896 - recall: 0.6045\n",
            "Epoch 42: val_loss did not improve from 0.43759\n",
            "\u001b[1m693/693\u001b[0m \u001b[32m━━━━━━━━━━━━━━━━━━━━\u001b[0m\u001b[37m\u001b[0m \u001b[1m5s\u001b[0m 8ms/step - accuracy: 0.8153 - loss: 0.4025 - precision: 0.7896 - recall: 0.6045 - val_accuracy: 0.8045 - val_loss: 0.4380 - val_precision: 0.7991 - val_recall: 0.5524 - learning_rate: 1.2500e-04\n",
            "Epoch 42: early stopping\n",
            "Restoring model weights from the end of the best epoch: 37.\n"
          ]
        },
        {
          "output_type": "execute_result",
          "data": {
            "text/plain": [
              "<keras.src.callbacks.history.History at 0x7d83689c6e10>"
            ]
          },
          "metadata": {},
          "execution_count": 12
        }
      ]
    },
    {
      "cell_type": "code",
      "source": [
        "best_mobilenetv2 = load_model(\"best_model.keras\", custom_objects={\n",
        "    'recall': recall,\n",
        "    'precision': precision\n",
        "})\n",
        "\n",
        "best_mobilenetv2.evaluate(X_test, y_test)"
      ],
      "metadata": {
        "id": "bhcdtdNf8Fi6",
        "colab": {
          "base_uri": "https://localhost:8080/"
        },
        "outputId": "624a456c-2dd8-4dea-9849-9ed3f62002bd"
      },
      "execution_count": null,
      "outputs": [
        {
          "output_type": "stream",
          "name": "stdout",
          "text": [
            "\u001b[1m116/116\u001b[0m \u001b[32m━━━━━━━━━━━━━━━━━━━━\u001b[0m\u001b[37m\u001b[0m \u001b[1m8s\u001b[0m 21ms/step - accuracy: 0.8059 - loss: 0.4381 - precision: 0.7686 - recall: 0.5608\n"
          ]
        },
        {
          "output_type": "execute_result",
          "data": {
            "text/plain": [
              "[0.4421641528606415, 0.5434606075286865, 0.77073734998703, 0.7939902544021606]"
            ]
          },
          "metadata": {},
          "execution_count": 13
        }
      ]
    },
    {
      "cell_type": "markdown",
      "source": [
        "## SqueezeNet - Ashley"
      ],
      "metadata": {
        "id": "GmupddkdGX-k"
      }
    },
    {
      "cell_type": "code",
      "source": [
        "def fire_module(x, squeeze, expand):\n",
        "    x = layers.Conv2D(squeeze, (1,1), activation='relu', padding='same')(x)\n",
        "    left = layers.Conv2D(expand, (1,1), activation='relu', padding='same')(x)\n",
        "    right = layers.Conv2D(expand, (3,3), activation='relu', padding='same')(x)\n",
        "    return layers.concatenate([left, right], axis=-1)\n",
        "\n",
        "def create_squeezenet(input_shape=(32, 32, 3)):\n",
        "    inputs = tf.keras.Input(shape=input_shape)\n",
        "    x = layers.Conv2D(96, (7,7), strides=(2,2), activation='relu', padding='same')(inputs)\n",
        "    x = layers.MaxPooling2D(pool_size=(3,3), strides=(2,2))(x)\n",
        "    x = fire_module(x, 16, 64)\n",
        "    x = fire_module(x, 16, 64)\n",
        "    x = fire_module(x, 32, 128)\n",
        "    x = layers.MaxPooling2D(pool_size=(3,3), strides=(2,2))(x)\n",
        "    x = fire_module(x, 32, 128)\n",
        "    x = layers.GlobalAveragePooling2D()(x)\n",
        "    x = layers.Dropout(0.5)(x)\n",
        "    output = layers.Dense(1, activation='sigmoid')(x)\n",
        "\n",
        "    model = models.Model(inputs=inputs, outputs=output)\n",
        "\n",
        "    return model"
      ],
      "metadata": {
        "id": "h3xSJIjD_eHr"
      },
      "execution_count": null,
      "outputs": []
    },
    {
      "cell_type": "code",
      "source": [
        "squeezenet = create_squeezenet()\n",
        "\n",
        "callbacks = [\n",
        "    ModelCheckpoint(\"best_model.keras\", save_best_only=True, monitor=\"val_loss\", verbose=1),\n",
        "    ReduceLROnPlateau(monitor=\"val_loss\", factor=0.5, patience=3, min_lr=1e-6, verbose=1),\n",
        "    EarlyStopping(monitor=\"val_loss\", patience=5, restore_best_weights=True, verbose=1),\n",
        "]\n",
        "\n",
        "squeezenet.compile(\n",
        "    optimizer='adam',\n",
        "    loss='binary_crossentropy',\n",
        "    metrics=[recall, precision, 'accuracy']\n",
        ")\n",
        "\n",
        "squeezenet.fit(X_train, y_train, validation_data=(X_val, y_val), batch_size=16, epochs=20, callbacks=callbacks)"
      ],
      "metadata": {
        "colab": {
          "base_uri": "https://localhost:8080/"
        },
        "id": "Z-1k642I_hln",
        "outputId": "4c723f37-6624-40dc-ab87-c40e52d2bb9e",
        "collapsed": true
      },
      "execution_count": null,
      "outputs": [
        {
          "output_type": "stream",
          "name": "stdout",
          "text": [
            "Epoch 1/20\n",
            "\u001b[1m692/693\u001b[0m \u001b[32m━━━━━━━━━━━━━━━━━━━\u001b[0m\u001b[37m━\u001b[0m \u001b[1m0s\u001b[0m 48ms/step - accuracy: 0.7284 - loss: 0.5354 - precision: 0.8479 - recall: 0.6168\n",
            "Epoch 1: val_loss improved from inf to 0.32407, saving model to best_model.keras\n",
            "\u001b[1m693/693\u001b[0m \u001b[32m━━━━━━━━━━━━━━━━━━━━\u001b[0m\u001b[37m\u001b[0m \u001b[1m95s\u001b[0m 58ms/step - accuracy: 0.7286 - loss: 0.5352 - precision: 0.8478 - recall: 0.6169 - val_accuracy: 0.8714 - val_loss: 0.3241 - val_precision: 0.8987 - val_recall: 0.6921 - learning_rate: 0.0010\n",
            "Epoch 2/20\n",
            "\u001b[1m693/693\u001b[0m \u001b[32m━━━━━━━━━━━━━━━━━━━━\u001b[0m\u001b[37m\u001b[0m \u001b[1m0s\u001b[0m 47ms/step - accuracy: 0.8854 - loss: 0.3015 - precision: 0.8619 - recall: 0.7730\n",
            "Epoch 2: val_loss improved from 0.32407 to 0.27172, saving model to best_model.keras\n",
            "\u001b[1m693/693\u001b[0m \u001b[32m━━━━━━━━━━━━━━━━━━━━\u001b[0m\u001b[37m\u001b[0m \u001b[1m37s\u001b[0m 52ms/step - accuracy: 0.8854 - loss: 0.3015 - precision: 0.8620 - recall: 0.7730 - val_accuracy: 0.8971 - val_loss: 0.2717 - val_precision: 0.8782 - val_recall: 0.8026 - learning_rate: 0.0010\n",
            "Epoch 3/20\n",
            "\u001b[1m693/693\u001b[0m \u001b[32m━━━━━━━━━━━━━━━━━━━━\u001b[0m\u001b[37m\u001b[0m \u001b[1m0s\u001b[0m 49ms/step - accuracy: 0.8956 - loss: 0.2716 - precision: 0.8935 - recall: 0.7834\n",
            "Epoch 3: val_loss improved from 0.27172 to 0.22746, saving model to best_model.keras\n",
            "\u001b[1m693/693\u001b[0m \u001b[32m━━━━━━━━━━━━━━━━━━━━\u001b[0m\u001b[37m\u001b[0m \u001b[1m38s\u001b[0m 55ms/step - accuracy: 0.8956 - loss: 0.2716 - precision: 0.8935 - recall: 0.7835 - val_accuracy: 0.9191 - val_loss: 0.2275 - val_precision: 0.9380 - val_recall: 0.8107 - learning_rate: 0.0010\n",
            "Epoch 4/20\n",
            "\u001b[1m693/693\u001b[0m \u001b[32m━━━━━━━━━━━━━━━━━━━━\u001b[0m\u001b[37m\u001b[0m \u001b[1m0s\u001b[0m 51ms/step - accuracy: 0.9141 - loss: 0.2312 - precision: 0.9177 - recall: 0.8172\n",
            "Epoch 4: val_loss did not improve from 0.22746\n",
            "\u001b[1m693/693\u001b[0m \u001b[32m━━━━━━━━━━━━━━━━━━━━\u001b[0m\u001b[37m\u001b[0m \u001b[1m41s\u001b[0m 58ms/step - accuracy: 0.9141 - loss: 0.2312 - precision: 0.9177 - recall: 0.8172 - val_accuracy: 0.9139 - val_loss: 0.2301 - val_precision: 0.8649 - val_recall: 0.8790 - learning_rate: 0.0010\n",
            "Epoch 5/20\n",
            "\u001b[1m692/693\u001b[0m \u001b[32m━━━━━━━━━━━━━━━━━━━\u001b[0m\u001b[37m━\u001b[0m \u001b[1m0s\u001b[0m 48ms/step - accuracy: 0.9265 - loss: 0.2004 - precision: 0.9353 - recall: 0.8377\n",
            "Epoch 5: val_loss did not improve from 0.22746\n",
            "\u001b[1m693/693\u001b[0m \u001b[32m━━━━━━━━━━━━━━━━━━━━\u001b[0m\u001b[37m\u001b[0m \u001b[1m38s\u001b[0m 54ms/step - accuracy: 0.9265 - loss: 0.2004 - precision: 0.9353 - recall: 0.8377 - val_accuracy: 0.8936 - val_loss: 0.2843 - val_precision: 0.8085 - val_recall: 0.8920 - learning_rate: 0.0010\n",
            "Epoch 6/20\n",
            "\u001b[1m693/693\u001b[0m \u001b[32m━━━━━━━━━━━━━━━━━━━━\u001b[0m\u001b[37m\u001b[0m \u001b[1m0s\u001b[0m 47ms/step - accuracy: 0.9373 - loss: 0.1745 - precision: 0.9444 - recall: 0.8593\n",
            "Epoch 6: val_loss did not improve from 0.22746\n",
            "\n",
            "Epoch 6: ReduceLROnPlateau reducing learning rate to 0.0005000000237487257.\n",
            "\u001b[1m693/693\u001b[0m \u001b[32m━━━━━━━━━━━━━━━━━━━━\u001b[0m\u001b[37m\u001b[0m \u001b[1m41s\u001b[0m 54ms/step - accuracy: 0.9373 - loss: 0.1745 - precision: 0.9444 - recall: 0.8593 - val_accuracy: 0.9153 - val_loss: 0.2292 - val_precision: 0.8672 - val_recall: 0.8806 - learning_rate: 0.0010\n",
            "Epoch 7/20\n",
            "\u001b[1m692/693\u001b[0m \u001b[32m━━━━━━━━━━━━━━━━━━━\u001b[0m\u001b[37m━\u001b[0m \u001b[1m0s\u001b[0m 48ms/step - accuracy: 0.9473 - loss: 0.1584 - precision: 0.9621 - recall: 0.8768\n",
            "Epoch 7: val_loss improved from 0.22746 to 0.18225, saving model to best_model.keras\n",
            "\u001b[1m693/693\u001b[0m \u001b[32m━━━━━━━━━━━━━━━━━━━━\u001b[0m\u001b[37m\u001b[0m \u001b[1m41s\u001b[0m 55ms/step - accuracy: 0.9473 - loss: 0.1583 - precision: 0.9621 - recall: 0.8768 - val_accuracy: 0.9318 - val_loss: 0.1822 - val_precision: 0.9187 - val_recall: 0.8725 - learning_rate: 5.0000e-04\n",
            "Epoch 8/20\n",
            "\u001b[1m692/693\u001b[0m \u001b[32m━━━━━━━━━━━━━━━━━━━\u001b[0m\u001b[37m━\u001b[0m \u001b[1m0s\u001b[0m 48ms/step - accuracy: 0.9491 - loss: 0.1478 - precision: 0.9638 - recall: 0.8829\n",
            "Epoch 8: val_loss did not improve from 0.18225\n",
            "\u001b[1m693/693\u001b[0m \u001b[32m━━━━━━━━━━━━━━━━━━━━\u001b[0m\u001b[37m\u001b[0m \u001b[1m38s\u001b[0m 55ms/step - accuracy: 0.9491 - loss: 0.1478 - precision: 0.9638 - recall: 0.8829 - val_accuracy: 0.9288 - val_loss: 0.1897 - val_precision: 0.9540 - val_recall: 0.8262 - learning_rate: 5.0000e-04\n",
            "Epoch 9/20\n",
            "\u001b[1m692/693\u001b[0m \u001b[32m━━━━━━━━━━━━━━━━━━━\u001b[0m\u001b[37m━\u001b[0m \u001b[1m0s\u001b[0m 48ms/step - accuracy: 0.9479 - loss: 0.1450 - precision: 0.9663 - recall: 0.8772\n",
            "Epoch 9: val_loss improved from 0.18225 to 0.17813, saving model to best_model.keras\n",
            "\u001b[1m693/693\u001b[0m \u001b[32m━━━━━━━━━━━━━━━━━━━━\u001b[0m\u001b[37m\u001b[0m \u001b[1m39s\u001b[0m 53ms/step - accuracy: 0.9479 - loss: 0.1450 - precision: 0.9662 - recall: 0.8772 - val_accuracy: 0.9329 - val_loss: 0.1781 - val_precision: 0.9255 - val_recall: 0.8684 - learning_rate: 5.0000e-04\n",
            "Epoch 10/20\n",
            "\u001b[1m693/693\u001b[0m \u001b[32m━━━━━━━━━━━━━━━━━━━━\u001b[0m\u001b[37m\u001b[0m \u001b[1m0s\u001b[0m 50ms/step - accuracy: 0.9550 - loss: 0.1253 - precision: 0.9682 - recall: 0.8919\n",
            "Epoch 10: val_loss improved from 0.17813 to 0.17628, saving model to best_model.keras\n",
            "\u001b[1m693/693\u001b[0m \u001b[32m━━━━━━━━━━━━━━━━━━━━\u001b[0m\u001b[37m\u001b[0m \u001b[1m43s\u001b[0m 55ms/step - accuracy: 0.9550 - loss: 0.1253 - precision: 0.9682 - recall: 0.8919 - val_accuracy: 0.9361 - val_loss: 0.1763 - val_precision: 0.9430 - val_recall: 0.8603 - learning_rate: 5.0000e-04\n",
            "Epoch 11/20\n",
            "\u001b[1m692/693\u001b[0m \u001b[32m━━━━━━━━━━━━━━━━━━━\u001b[0m\u001b[37m━\u001b[0m \u001b[1m0s\u001b[0m 47ms/step - accuracy: 0.9542 - loss: 0.1219 - precision: 0.9634 - recall: 0.8947\n",
            "Epoch 11: val_loss did not improve from 0.17628\n",
            "\u001b[1m693/693\u001b[0m \u001b[32m━━━━━━━━━━━━━━━━━━━━\u001b[0m\u001b[37m\u001b[0m \u001b[1m38s\u001b[0m 55ms/step - accuracy: 0.9542 - loss: 0.1219 - precision: 0.9634 - recall: 0.8947 - val_accuracy: 0.9342 - val_loss: 0.1810 - val_precision: 0.9687 - val_recall: 0.8294 - learning_rate: 5.0000e-04\n",
            "Epoch 12/20\n",
            "\u001b[1m692/693\u001b[0m \u001b[32m━━━━━━━━━━━━━━━━━━━\u001b[0m\u001b[37m━\u001b[0m \u001b[1m0s\u001b[0m 48ms/step - accuracy: 0.9584 - loss: 0.1111 - precision: 0.9700 - recall: 0.9031\n",
            "Epoch 12: val_loss improved from 0.17628 to 0.17250, saving model to best_model.keras\n",
            "\u001b[1m693/693\u001b[0m \u001b[32m━━━━━━━━━━━━━━━━━━━━\u001b[0m\u001b[37m\u001b[0m \u001b[1m38s\u001b[0m 55ms/step - accuracy: 0.9584 - loss: 0.1111 - precision: 0.9699 - recall: 0.9031 - val_accuracy: 0.9383 - val_loss: 0.1725 - val_precision: 0.9522 - val_recall: 0.8578 - learning_rate: 5.0000e-04\n",
            "Epoch 13/20\n",
            "\u001b[1m693/693\u001b[0m \u001b[32m━━━━━━━━━━━━━━━━━━━━\u001b[0m\u001b[37m\u001b[0m \u001b[1m0s\u001b[0m 48ms/step - accuracy: 0.9645 - loss: 0.1046 - precision: 0.9757 - recall: 0.9175\n",
            "Epoch 13: val_loss did not improve from 0.17250\n",
            "\u001b[1m693/693\u001b[0m \u001b[32m━━━━━━━━━━━━━━━━━━━━\u001b[0m\u001b[37m\u001b[0m \u001b[1m41s\u001b[0m 55ms/step - accuracy: 0.9645 - loss: 0.1046 - precision: 0.9757 - recall: 0.9175 - val_accuracy: 0.9391 - val_loss: 0.1796 - val_precision: 0.9292 - val_recall: 0.8846 - learning_rate: 5.0000e-04\n",
            "Epoch 14/20\n",
            "\u001b[1m692/693\u001b[0m \u001b[32m━━━━━━━━━━━━━━━━━━━\u001b[0m\u001b[37m━\u001b[0m \u001b[1m0s\u001b[0m 49ms/step - accuracy: 0.9644 - loss: 0.0997 - precision: 0.9713 - recall: 0.9175\n",
            "Epoch 14: val_loss did not improve from 0.17250\n",
            "\u001b[1m693/693\u001b[0m \u001b[32m━━━━━━━━━━━━━━━━━━━━\u001b[0m\u001b[37m\u001b[0m \u001b[1m40s\u001b[0m 53ms/step - accuracy: 0.9644 - loss: 0.0997 - precision: 0.9713 - recall: 0.9175 - val_accuracy: 0.9402 - val_loss: 0.1898 - val_precision: 0.9346 - val_recall: 0.8822 - learning_rate: 5.0000e-04\n",
            "Epoch 15/20\n",
            "\u001b[1m693/693\u001b[0m \u001b[32m━━━━━━━━━━━━━━━━━━━━\u001b[0m\u001b[37m\u001b[0m \u001b[1m0s\u001b[0m 47ms/step - accuracy: 0.9647 - loss: 0.0908 - precision: 0.9710 - recall: 0.9232\n",
            "Epoch 15: val_loss did not improve from 0.17250\n",
            "\n",
            "Epoch 15: ReduceLROnPlateau reducing learning rate to 0.0002500000118743628.\n",
            "\u001b[1m693/693\u001b[0m \u001b[32m━━━━━━━━━━━━━━━━━━━━\u001b[0m\u001b[37m\u001b[0m \u001b[1m38s\u001b[0m 54ms/step - accuracy: 0.9647 - loss: 0.0908 - precision: 0.9710 - recall: 0.9232 - val_accuracy: 0.9280 - val_loss: 0.2345 - val_precision: 0.9726 - val_recall: 0.8067 - learning_rate: 5.0000e-04\n",
            "Epoch 16/20\n",
            "\u001b[1m693/693\u001b[0m \u001b[32m━━━━━━━━━━━━━━━━━━━━\u001b[0m\u001b[37m\u001b[0m \u001b[1m0s\u001b[0m 47ms/step - accuracy: 0.9725 - loss: 0.0764 - precision: 0.9787 - recall: 0.9370\n",
            "Epoch 16: val_loss did not improve from 0.17250\n",
            "\u001b[1m693/693\u001b[0m \u001b[32m━━━━━━━━━━━━━━━━━━━━\u001b[0m\u001b[37m\u001b[0m \u001b[1m38s\u001b[0m 54ms/step - accuracy: 0.9725 - loss: 0.0764 - precision: 0.9787 - recall: 0.9370 - val_accuracy: 0.9399 - val_loss: 0.2222 - val_precision: 0.9152 - val_recall: 0.9033 - learning_rate: 2.5000e-04\n",
            "Epoch 17/20\n",
            "\u001b[1m693/693\u001b[0m \u001b[32m━━━━━━━━━━━━━━━━━━━━\u001b[0m\u001b[37m\u001b[0m \u001b[1m0s\u001b[0m 47ms/step - accuracy: 0.9783 - loss: 0.0600 - precision: 0.9855 - recall: 0.9484\n",
            "Epoch 17: val_loss did not improve from 0.17250\n",
            "\u001b[1m693/693\u001b[0m \u001b[32m━━━━━━━━━━━━━━━━━━━━\u001b[0m\u001b[37m\u001b[0m \u001b[1m36s\u001b[0m 51ms/step - accuracy: 0.9783 - loss: 0.0600 - precision: 0.9855 - recall: 0.9484 - val_accuracy: 0.9345 - val_loss: 0.2428 - val_precision: 0.9011 - val_recall: 0.9025 - learning_rate: 2.5000e-04\n",
            "Epoch 17: early stopping\n",
            "Restoring model weights from the end of the best epoch: 12.\n"
          ]
        },
        {
          "output_type": "execute_result",
          "data": {
            "text/plain": [
              "<keras.src.callbacks.history.History at 0x7c3f0ceaf990>"
            ]
          },
          "metadata": {},
          "execution_count": 21
        }
      ]
    },
    {
      "cell_type": "code",
      "source": [
        "best_squeezenet = load_model(\"best_model.keras\", custom_objects={\n",
        "    'recall': recall,\n",
        "    'precision': precision\n",
        "})\n",
        "\n",
        "best_squeezenet.evaluate(X_test, y_test)"
      ],
      "metadata": {
        "id": "YWCkEu6-8Phi",
        "colab": {
          "base_uri": "https://localhost:8080/"
        },
        "outputId": "88a07b64-9704-4252-d361-7880ff89a1b9"
      },
      "execution_count": null,
      "outputs": [
        {
          "output_type": "stream",
          "name": "stdout",
          "text": [
            "\u001b[1m116/116\u001b[0m \u001b[32m━━━━━━━━━━━━━━━━━━━━\u001b[0m\u001b[37m\u001b[0m \u001b[1m4s\u001b[0m 23ms/step - accuracy: 0.9428 - loss: 0.1732 - precision: 0.9524 - recall: 0.8629\n"
          ]
        },
        {
          "output_type": "execute_result",
          "data": {
            "text/plain": [
              "[0.16746650636196136,\n",
              " 0.8740860819816589,\n",
              " 0.9547471404075623,\n",
              " 0.9442338943481445]"
            ]
          },
          "metadata": {},
          "execution_count": 22
        }
      ]
    },
    {
      "cell_type": "markdown",
      "source": [
        "## VGGNet - Ashley"
      ],
      "metadata": {
        "id": "_3a03WfHLhfu"
      }
    },
    {
      "cell_type": "code",
      "source": [
        "def build_vgg(input_shape=(32, 32, 3)):\n",
        "    base_model = VGG16(include_top=False, weights='imagenet', input_shape=input_shape)\n",
        "    base_model.trainable = False\n",
        "\n",
        "    inputs = tf.keras.Input(shape=input_shape)\n",
        "    x = base_model(inputs, training=False)\n",
        "    x = layers.GlobalAveragePooling2D()(x)\n",
        "    x = layers.Dense(64, activation='relu')(x)\n",
        "    x = layers.Dropout(0.3)(x)\n",
        "    outputs = layers.Dense(1, activation='sigmoid')(x)\n",
        "    return Model(inputs, outputs)\n"
      ],
      "metadata": {
        "id": "E4bC587RLhJb"
      },
      "execution_count": null,
      "outputs": []
    },
    {
      "cell_type": "code",
      "source": [
        "vgg = build_vgg()\n",
        "\n",
        "callbacks = [\n",
        "    ModelCheckpoint(\"best_model.keras\", save_best_only=True, monitor=\"val_loss\", verbose=1),\n",
        "    ReduceLROnPlateau(monitor=\"val_loss\", factor=0.5, patience=3, min_lr=1e-6, verbose=1),\n",
        "    EarlyStopping(monitor=\"val_loss\", patience=5, restore_best_weights=True, verbose=1),\n",
        "]\n",
        "\n",
        "vgg.compile(\n",
        "    optimizer='adam',\n",
        "    loss='binary_crossentropy',\n",
        "    metrics=[recall, precision, 'accuracy']\n",
        ")\n",
        "\n",
        "vgg.fit(X_train, y_train, validation_data=(X_val, y_val), batch_size=16, epochs=50, callbacks=callbacks)"
      ],
      "metadata": {
        "colab": {
          "base_uri": "https://localhost:8080/"
        },
        "id": "42_Btx8nNpQ2",
        "outputId": "926460e2-3b93-42e8-8b2c-71913c94b09d",
        "collapsed": true
      },
      "execution_count": null,
      "outputs": [
        {
          "output_type": "stream",
          "name": "stdout",
          "text": [
            "Epoch 1/50\n",
            "\u001b[1m693/693\u001b[0m \u001b[32m━━━━━━━━━━━━━━━━━━━━\u001b[0m\u001b[37m\u001b[0m \u001b[1m0s\u001b[0m 8ms/step - accuracy: 0.8269 - loss: 0.4163 - precision: 0.9017 - recall: 0.7320\n",
            "Epoch 1: val_loss improved from inf to 0.24397, saving model to best_model.keras\n",
            "\u001b[1m693/693\u001b[0m \u001b[32m━━━━━━━━━━━━━━━━━━━━\u001b[0m\u001b[37m\u001b[0m \u001b[1m12s\u001b[0m 13ms/step - accuracy: 0.8270 - loss: 0.4162 - precision: 0.9017 - recall: 0.7320 - val_accuracy: 0.9136 - val_loss: 0.2440 - val_precision: 0.9262 - val_recall: 0.8050 - learning_rate: 0.0010\n",
            "Epoch 2/50\n",
            "\u001b[1m693/693\u001b[0m \u001b[32m━━━━━━━━━━━━━━━━━━━━\u001b[0m\u001b[37m\u001b[0m \u001b[1m0s\u001b[0m 7ms/step - accuracy: 0.9169 - loss: 0.2291 - precision: 0.9118 - recall: 0.8296\n",
            "Epoch 2: val_loss improved from 0.24397 to 0.21743, saving model to best_model.keras\n",
            "\u001b[1m693/693\u001b[0m \u001b[32m━━━━━━━━━━━━━━━━━━━━\u001b[0m\u001b[37m\u001b[0m \u001b[1m8s\u001b[0m 11ms/step - accuracy: 0.9169 - loss: 0.2291 - precision: 0.9118 - recall: 0.8296 - val_accuracy: 0.9207 - val_loss: 0.2174 - val_precision: 0.9114 - val_recall: 0.8440 - learning_rate: 0.0010\n",
            "Epoch 3/50\n",
            "\u001b[1m693/693\u001b[0m \u001b[32m━━━━━━━━━━━━━━━━━━━━\u001b[0m\u001b[37m\u001b[0m \u001b[1m0s\u001b[0m 6ms/step - accuracy: 0.9254 - loss: 0.2016 - precision: 0.9276 - recall: 0.8454\n",
            "Epoch 3: val_loss did not improve from 0.21743\n",
            "\u001b[1m693/693\u001b[0m \u001b[32m━━━━━━━━━━━━━━━━━━━━\u001b[0m\u001b[37m\u001b[0m \u001b[1m6s\u001b[0m 8ms/step - accuracy: 0.9254 - loss: 0.2015 - precision: 0.9276 - recall: 0.8454 - val_accuracy: 0.9220 - val_loss: 0.2210 - val_precision: 0.9729 - val_recall: 0.7880 - learning_rate: 0.0010\n",
            "Epoch 4/50\n",
            "\u001b[1m689/693\u001b[0m \u001b[32m━━━━━━━━━━━━━━━━━━━\u001b[0m\u001b[37m━\u001b[0m \u001b[1m0s\u001b[0m 6ms/step - accuracy: 0.9318 - loss: 0.1826 - precision: 0.9450 - recall: 0.8449\n",
            "Epoch 4: val_loss improved from 0.21743 to 0.21382, saving model to best_model.keras\n",
            "\u001b[1m693/693\u001b[0m \u001b[32m━━━━━━━━━━━━━━━━━━━━\u001b[0m\u001b[37m\u001b[0m \u001b[1m7s\u001b[0m 10ms/step - accuracy: 0.9318 - loss: 0.1826 - precision: 0.9450 - recall: 0.8450 - val_accuracy: 0.9185 - val_loss: 0.2138 - val_precision: 0.8787 - val_recall: 0.8765 - learning_rate: 0.0010\n",
            "Epoch 5/50\n",
            "\u001b[1m690/693\u001b[0m \u001b[32m━━━━━━━━━━━━━━━━━━━\u001b[0m\u001b[37m━\u001b[0m \u001b[1m0s\u001b[0m 7ms/step - accuracy: 0.9382 - loss: 0.1721 - precision: 0.9485 - recall: 0.8631\n",
            "Epoch 5: val_loss improved from 0.21382 to 0.21185, saving model to best_model.keras\n",
            "\u001b[1m693/693\u001b[0m \u001b[32m━━━━━━━━━━━━━━━━━━━━\u001b[0m\u001b[37m\u001b[0m \u001b[1m11s\u001b[0m 11ms/step - accuracy: 0.9382 - loss: 0.1721 - precision: 0.9485 - recall: 0.8631 - val_accuracy: 0.9274 - val_loss: 0.2119 - val_precision: 0.9716 - val_recall: 0.8058 - learning_rate: 0.0010\n",
            "Epoch 6/50\n",
            "\u001b[1m691/693\u001b[0m \u001b[32m━━━━━━━━━━━━━━━━━━━\u001b[0m\u001b[37m━\u001b[0m \u001b[1m0s\u001b[0m 7ms/step - accuracy: 0.9370 - loss: 0.1645 - precision: 0.9494 - recall: 0.8590\n",
            "Epoch 6: val_loss improved from 0.21185 to 0.18744, saving model to best_model.keras\n",
            "\u001b[1m693/693\u001b[0m \u001b[32m━━━━━━━━━━━━━━━━━━━━\u001b[0m\u001b[37m\u001b[0m \u001b[1m10s\u001b[0m 11ms/step - accuracy: 0.9370 - loss: 0.1645 - precision: 0.9495 - recall: 0.8590 - val_accuracy: 0.9296 - val_loss: 0.1874 - val_precision: 0.9466 - val_recall: 0.8359 - learning_rate: 0.0010\n",
            "Epoch 7/50\n",
            "\u001b[1m688/693\u001b[0m \u001b[32m━━━━━━━━━━━━━━━━━━━\u001b[0m\u001b[37m━\u001b[0m \u001b[1m0s\u001b[0m 6ms/step - accuracy: 0.9421 - loss: 0.1572 - precision: 0.9561 - recall: 0.8623\n",
            "Epoch 7: val_loss did not improve from 0.18744\n",
            "\u001b[1m693/693\u001b[0m \u001b[32m━━━━━━━━━━━━━━━━━━━━\u001b[0m\u001b[37m\u001b[0m \u001b[1m8s\u001b[0m 8ms/step - accuracy: 0.9421 - loss: 0.1572 - precision: 0.9561 - recall: 0.8623 - val_accuracy: 0.9337 - val_loss: 0.1970 - val_precision: 0.9722 - val_recall: 0.8245 - learning_rate: 0.0010\n",
            "Epoch 8/50\n",
            "\u001b[1m690/693\u001b[0m \u001b[32m━━━━━━━━━━━━━━━━━━━\u001b[0m\u001b[37m━\u001b[0m \u001b[1m0s\u001b[0m 6ms/step - accuracy: 0.9431 - loss: 0.1572 - precision: 0.9575 - recall: 0.8634\n",
            "Epoch 8: val_loss did not improve from 0.18744\n",
            "\u001b[1m693/693\u001b[0m \u001b[32m━━━━━━━━━━━━━━━━━━━━\u001b[0m\u001b[37m\u001b[0m \u001b[1m10s\u001b[0m 8ms/step - accuracy: 0.9431 - loss: 0.1572 - precision: 0.9575 - recall: 0.8634 - val_accuracy: 0.9358 - val_loss: 0.1879 - val_precision: 0.9706 - val_recall: 0.8327 - learning_rate: 0.0010\n",
            "Epoch 9/50\n",
            "\u001b[1m687/693\u001b[0m \u001b[32m━━━━━━━━━━━━━━━━━━━\u001b[0m\u001b[37m━\u001b[0m \u001b[1m0s\u001b[0m 6ms/step - accuracy: 0.9494 - loss: 0.1418 - precision: 0.9633 - recall: 0.8786\n",
            "Epoch 9: val_loss improved from 0.18744 to 0.18239, saving model to best_model.keras\n",
            "\u001b[1m693/693\u001b[0m \u001b[32m━━━━━━━━━━━━━━━━━━━━\u001b[0m\u001b[37m\u001b[0m \u001b[1m12s\u001b[0m 10ms/step - accuracy: 0.9494 - loss: 0.1419 - precision: 0.9632 - recall: 0.8785 - val_accuracy: 0.9334 - val_loss: 0.1824 - val_precision: 0.9722 - val_recall: 0.8237 - learning_rate: 0.0010\n",
            "Epoch 10/50\n",
            "\u001b[1m693/693\u001b[0m \u001b[32m━━━━━━━━━━━━━━━━━━━━\u001b[0m\u001b[37m\u001b[0m \u001b[1m0s\u001b[0m 7ms/step - accuracy: 0.9460 - loss: 0.1494 - precision: 0.9579 - recall: 0.8704\n",
            "Epoch 10: val_loss did not improve from 0.18239\n",
            "\u001b[1m693/693\u001b[0m \u001b[32m━━━━━━━━━━━━━━━━━━━━\u001b[0m\u001b[37m\u001b[0m \u001b[1m6s\u001b[0m 9ms/step - accuracy: 0.9460 - loss: 0.1494 - precision: 0.9579 - recall: 0.8704 - val_accuracy: 0.9323 - val_loss: 0.1882 - val_precision: 0.9071 - val_recall: 0.8879 - learning_rate: 0.0010\n",
            "Epoch 11/50\n",
            "\u001b[1m686/693\u001b[0m \u001b[32m━━━━━━━━━━━━━━━━━━━\u001b[0m\u001b[37m━\u001b[0m \u001b[1m0s\u001b[0m 6ms/step - accuracy: 0.9492 - loss: 0.1396 - precision: 0.9608 - recall: 0.8880\n",
            "Epoch 11: val_loss improved from 0.18239 to 0.17898, saving model to best_model.keras\n",
            "\u001b[1m693/693\u001b[0m \u001b[32m━━━━━━━━━━━━━━━━━━━━\u001b[0m\u001b[37m\u001b[0m \u001b[1m6s\u001b[0m 9ms/step - accuracy: 0.9492 - loss: 0.1396 - precision: 0.9608 - recall: 0.8879 - val_accuracy: 0.9350 - val_loss: 0.1790 - val_precision: 0.9715 - val_recall: 0.8294 - learning_rate: 0.0010\n",
            "Epoch 12/50\n",
            "\u001b[1m691/693\u001b[0m \u001b[32m━━━━━━━━━━━━━━━━━━━\u001b[0m\u001b[37m━\u001b[0m \u001b[1m0s\u001b[0m 7ms/step - accuracy: 0.9512 - loss: 0.1367 - precision: 0.9667 - recall: 0.8830\n",
            "Epoch 12: val_loss improved from 0.17898 to 0.17711, saving model to best_model.keras\n",
            "\u001b[1m693/693\u001b[0m \u001b[32m━━━━━━━━━━━━━━━━━━━━\u001b[0m\u001b[37m\u001b[0m \u001b[1m10s\u001b[0m 9ms/step - accuracy: 0.9512 - loss: 0.1367 - precision: 0.9667 - recall: 0.8830 - val_accuracy: 0.9348 - val_loss: 0.1771 - val_precision: 0.9260 - val_recall: 0.8741 - learning_rate: 0.0010\n",
            "Epoch 13/50\n",
            "\u001b[1m693/693\u001b[0m \u001b[32m━━━━━━━━━━━━━━━━━━━━\u001b[0m\u001b[37m\u001b[0m \u001b[1m0s\u001b[0m 6ms/step - accuracy: 0.9483 - loss: 0.1423 - precision: 0.9601 - recall: 0.8785\n",
            "Epoch 13: val_loss improved from 0.17711 to 0.17579, saving model to best_model.keras\n",
            "\u001b[1m693/693\u001b[0m \u001b[32m━━━━━━━━━━━━━━━━━━━━\u001b[0m\u001b[37m\u001b[0m \u001b[1m7s\u001b[0m 10ms/step - accuracy: 0.9483 - loss: 0.1423 - precision: 0.9601 - recall: 0.8785 - val_accuracy: 0.9396 - val_loss: 0.1758 - val_precision: 0.9684 - val_recall: 0.8465 - learning_rate: 0.0010\n",
            "Epoch 14/50\n",
            "\u001b[1m691/693\u001b[0m \u001b[32m━━━━━━━━━━━━━━━━━━━\u001b[0m\u001b[37m━\u001b[0m \u001b[1m0s\u001b[0m 6ms/step - accuracy: 0.9487 - loss: 0.1404 - precision: 0.9626 - recall: 0.8779\n",
            "Epoch 14: val_loss improved from 0.17579 to 0.17235, saving model to best_model.keras\n",
            "\u001b[1m693/693\u001b[0m \u001b[32m━━━━━━━━━━━━━━━━━━━━\u001b[0m\u001b[37m\u001b[0m \u001b[1m9s\u001b[0m 9ms/step - accuracy: 0.9487 - loss: 0.1403 - precision: 0.9626 - recall: 0.8779 - val_accuracy: 0.9391 - val_loss: 0.1724 - val_precision: 0.9710 - val_recall: 0.8424 - learning_rate: 0.0010\n",
            "Epoch 15/50\n",
            "\u001b[1m687/693\u001b[0m \u001b[32m━━━━━━━━━━━━━━━━━━━\u001b[0m\u001b[37m━\u001b[0m \u001b[1m0s\u001b[0m 7ms/step - accuracy: 0.9524 - loss: 0.1305 - precision: 0.9652 - recall: 0.8916\n",
            "Epoch 15: val_loss did not improve from 0.17235\n",
            "\u001b[1m693/693\u001b[0m \u001b[32m━━━━━━━━━━━━━━━━━━━━\u001b[0m\u001b[37m\u001b[0m \u001b[1m7s\u001b[0m 10ms/step - accuracy: 0.9524 - loss: 0.1305 - precision: 0.9652 - recall: 0.8916 - val_accuracy: 0.9321 - val_loss: 0.1841 - val_precision: 0.9202 - val_recall: 0.8716 - learning_rate: 0.0010\n",
            "Epoch 16/50\n",
            "\u001b[1m691/693\u001b[0m \u001b[32m━━━━━━━━━━━━━━━━━━━\u001b[0m\u001b[37m━\u001b[0m \u001b[1m0s\u001b[0m 6ms/step - accuracy: 0.9512 - loss: 0.1273 - precision: 0.9619 - recall: 0.8891\n",
            "Epoch 16: val_loss improved from 0.17235 to 0.17188, saving model to best_model.keras\n",
            "\u001b[1m693/693\u001b[0m \u001b[32m━━━━━━━━━━━━━━━━━━━━\u001b[0m\u001b[37m\u001b[0m \u001b[1m9s\u001b[0m 9ms/step - accuracy: 0.9512 - loss: 0.1273 - precision: 0.9619 - recall: 0.8891 - val_accuracy: 0.9345 - val_loss: 0.1719 - val_precision: 0.9223 - val_recall: 0.8773 - learning_rate: 0.0010\n",
            "Epoch 17/50\n",
            "\u001b[1m687/693\u001b[0m \u001b[32m━━━━━━━━━━━━━━━━━━━\u001b[0m\u001b[37m━\u001b[0m \u001b[1m0s\u001b[0m 6ms/step - accuracy: 0.9531 - loss: 0.1245 - precision: 0.9659 - recall: 0.8889\n",
            "Epoch 17: val_loss did not improve from 0.17188\n",
            "\u001b[1m693/693\u001b[0m \u001b[32m━━━━━━━━━━━━━━━━━━━━\u001b[0m\u001b[37m\u001b[0m \u001b[1m7s\u001b[0m 10ms/step - accuracy: 0.9531 - loss: 0.1245 - precision: 0.9660 - recall: 0.8889 - val_accuracy: 0.9361 - val_loss: 0.1724 - val_precision: 0.9292 - val_recall: 0.8749 - learning_rate: 0.0010\n",
            "Epoch 18/50\n",
            "\u001b[1m686/693\u001b[0m \u001b[32m━━━━━━━━━━━━━━━━━━━\u001b[0m\u001b[37m━\u001b[0m \u001b[1m0s\u001b[0m 6ms/step - accuracy: 0.9529 - loss: 0.1227 - precision: 0.9646 - recall: 0.8910\n",
            "Epoch 18: val_loss improved from 0.17188 to 0.16903, saving model to best_model.keras\n",
            "\u001b[1m693/693\u001b[0m \u001b[32m━━━━━━━━━━━━━━━━━━━━\u001b[0m\u001b[37m\u001b[0m \u001b[1m6s\u001b[0m 9ms/step - accuracy: 0.9529 - loss: 0.1227 - precision: 0.9646 - recall: 0.8910 - val_accuracy: 0.9385 - val_loss: 0.1690 - val_precision: 0.9531 - val_recall: 0.8578 - learning_rate: 0.0010\n",
            "Epoch 19/50\n",
            "\u001b[1m688/693\u001b[0m \u001b[32m━━━━━━━━━━━━━━━━━━━\u001b[0m\u001b[37m━\u001b[0m \u001b[1m0s\u001b[0m 6ms/step - accuracy: 0.9596 - loss: 0.1188 - precision: 0.9767 - recall: 0.9006\n",
            "Epoch 19: val_loss did not improve from 0.16903\n",
            "\u001b[1m693/693\u001b[0m \u001b[32m━━━━━━━━━━━━━━━━━━━━\u001b[0m\u001b[37m\u001b[0m \u001b[1m11s\u001b[0m 10ms/step - accuracy: 0.9596 - loss: 0.1188 - precision: 0.9766 - recall: 0.9005 - val_accuracy: 0.9429 - val_loss: 0.1722 - val_precision: 0.9811 - val_recall: 0.8448 - learning_rate: 0.0010\n",
            "Epoch 20/50\n",
            "\u001b[1m687/693\u001b[0m \u001b[32m━━━━━━━━━━━━━━━━━━━\u001b[0m\u001b[37m━\u001b[0m \u001b[1m0s\u001b[0m 6ms/step - accuracy: 0.9576 - loss: 0.1176 - precision: 0.9718 - recall: 0.9018\n",
            "Epoch 20: val_loss did not improve from 0.16903\n",
            "\u001b[1m693/693\u001b[0m \u001b[32m━━━━━━━━━━━━━━━━━━━━\u001b[0m\u001b[37m\u001b[0m \u001b[1m9s\u001b[0m 8ms/step - accuracy: 0.9576 - loss: 0.1176 - precision: 0.9718 - recall: 0.9018 - val_accuracy: 0.9399 - val_loss: 0.1743 - val_precision: 0.9755 - val_recall: 0.8408 - learning_rate: 0.0010\n",
            "Epoch 21/50\n",
            "\u001b[1m692/693\u001b[0m \u001b[32m━━━━━━━━━━━━━━━━━━━\u001b[0m\u001b[37m━\u001b[0m \u001b[1m0s\u001b[0m 6ms/step - accuracy: 0.9532 - loss: 0.1228 - precision: 0.9680 - recall: 0.8893\n",
            "Epoch 21: val_loss improved from 0.16903 to 0.16277, saving model to best_model.keras\n",
            "\u001b[1m693/693\u001b[0m \u001b[32m━━━━━━━━━━━━━━━━━━━━\u001b[0m\u001b[37m\u001b[0m \u001b[1m12s\u001b[0m 10ms/step - accuracy: 0.9532 - loss: 0.1228 - precision: 0.9680 - recall: 0.8894 - val_accuracy: 0.9396 - val_loss: 0.1628 - val_precision: 0.9444 - val_recall: 0.8700 - learning_rate: 0.0010\n",
            "Epoch 22/50\n",
            "\u001b[1m686/693\u001b[0m \u001b[32m━━━━━━━━━━━━━━━━━━━\u001b[0m\u001b[37m━\u001b[0m \u001b[1m0s\u001b[0m 7ms/step - accuracy: 0.9576 - loss: 0.1185 - precision: 0.9682 - recall: 0.9027\n",
            "Epoch 22: val_loss did not improve from 0.16277\n",
            "\u001b[1m693/693\u001b[0m \u001b[32m━━━━━━━━━━━━━━━━━━━━\u001b[0m\u001b[37m\u001b[0m \u001b[1m10s\u001b[0m 11ms/step - accuracy: 0.9575 - loss: 0.1185 - precision: 0.9682 - recall: 0.9026 - val_accuracy: 0.9413 - val_loss: 0.1676 - val_precision: 0.9535 - val_recall: 0.8660 - learning_rate: 0.0010\n",
            "Epoch 23/50\n",
            "\u001b[1m692/693\u001b[0m \u001b[32m━━━━━━━━━━━━━━━━━━━\u001b[0m\u001b[37m━\u001b[0m \u001b[1m0s\u001b[0m 7ms/step - accuracy: 0.9612 - loss: 0.1076 - precision: 0.9718 - recall: 0.9095\n",
            "Epoch 23: val_loss did not improve from 0.16277\n",
            "\u001b[1m693/693\u001b[0m \u001b[32m━━━━━━━━━━━━━━━━━━━━\u001b[0m\u001b[37m\u001b[0m \u001b[1m9s\u001b[0m 9ms/step - accuracy: 0.9612 - loss: 0.1076 - precision: 0.9718 - recall: 0.9095 - val_accuracy: 0.9429 - val_loss: 0.1683 - val_precision: 0.9628 - val_recall: 0.8619 - learning_rate: 0.0010\n",
            "Epoch 24/50\n",
            "\u001b[1m688/693\u001b[0m \u001b[32m━━━━━━━━━━━━━━━━━━━\u001b[0m\u001b[37m━\u001b[0m \u001b[1m0s\u001b[0m 6ms/step - accuracy: 0.9596 - loss: 0.1122 - precision: 0.9695 - recall: 0.9073\n",
            "Epoch 24: val_loss did not improve from 0.16277\n",
            "\n",
            "Epoch 24: ReduceLROnPlateau reducing learning rate to 0.0005000000237487257.\n",
            "\u001b[1m693/693\u001b[0m \u001b[32m━━━━━━━━━━━━━━━━━━━━\u001b[0m\u001b[37m\u001b[0m \u001b[1m11s\u001b[0m 10ms/step - accuracy: 0.9596 - loss: 0.1122 - precision: 0.9695 - recall: 0.9073 - val_accuracy: 0.9402 - val_loss: 0.1651 - val_precision: 0.9493 - val_recall: 0.8668 - learning_rate: 0.0010\n",
            "Epoch 25/50\n",
            "\u001b[1m692/693\u001b[0m \u001b[32m━━━━━━━━━━━━━━━━━━━\u001b[0m\u001b[37m━\u001b[0m \u001b[1m0s\u001b[0m 6ms/step - accuracy: 0.9626 - loss: 0.1047 - precision: 0.9791 - recall: 0.9080\n",
            "Epoch 25: val_loss did not improve from 0.16277\n",
            "\u001b[1m693/693\u001b[0m \u001b[32m━━━━━━━━━━━━━━━━━━━━\u001b[0m\u001b[37m\u001b[0m \u001b[1m6s\u001b[0m 8ms/step - accuracy: 0.9626 - loss: 0.1047 - precision: 0.9791 - recall: 0.9080 - val_accuracy: 0.9423 - val_loss: 0.1711 - val_precision: 0.9636 - val_recall: 0.8595 - learning_rate: 5.0000e-04\n",
            "Epoch 26/50\n",
            "\u001b[1m692/693\u001b[0m \u001b[32m━━━━━━━━━━━━━━━━━━━\u001b[0m\u001b[37m━\u001b[0m \u001b[1m0s\u001b[0m 7ms/step - accuracy: 0.9606 - loss: 0.1001 - precision: 0.9752 - recall: 0.9064\n",
            "Epoch 26: val_loss improved from 0.16277 to 0.16113, saving model to best_model.keras\n",
            "\u001b[1m693/693\u001b[0m \u001b[32m━━━━━━━━━━━━━━━━━━━━\u001b[0m\u001b[37m\u001b[0m \u001b[1m11s\u001b[0m 9ms/step - accuracy: 0.9606 - loss: 0.1001 - precision: 0.9752 - recall: 0.9064 - val_accuracy: 0.9413 - val_loss: 0.1611 - val_precision: 0.9535 - val_recall: 0.8660 - learning_rate: 5.0000e-04\n",
            "Epoch 27/50\n",
            "\u001b[1m691/693\u001b[0m \u001b[32m━━━━━━━━━━━━━━━━━━━\u001b[0m\u001b[37m━\u001b[0m \u001b[1m0s\u001b[0m 6ms/step - accuracy: 0.9657 - loss: 0.0954 - precision: 0.9809 - recall: 0.9156\n",
            "Epoch 27: val_loss did not improve from 0.16113\n",
            "\u001b[1m693/693\u001b[0m \u001b[32m━━━━━━━━━━━━━━━━━━━━\u001b[0m\u001b[37m\u001b[0m \u001b[1m7s\u001b[0m 10ms/step - accuracy: 0.9657 - loss: 0.0954 - precision: 0.9809 - recall: 0.9156 - val_accuracy: 0.9434 - val_loss: 0.1629 - val_precision: 0.9571 - val_recall: 0.8692 - learning_rate: 5.0000e-04\n",
            "Epoch 28/50\n",
            "\u001b[1m690/693\u001b[0m \u001b[32m━━━━━━━━━━━━━━━━━━━\u001b[0m\u001b[37m━\u001b[0m \u001b[1m0s\u001b[0m 7ms/step - accuracy: 0.9615 - loss: 0.1002 - precision: 0.9742 - recall: 0.9092\n",
            "Epoch 28: val_loss did not improve from 0.16113\n",
            "\u001b[1m693/693\u001b[0m \u001b[32m━━━━━━━━━━━━━━━━━━━━\u001b[0m\u001b[37m\u001b[0m \u001b[1m7s\u001b[0m 10ms/step - accuracy: 0.9615 - loss: 0.1002 - precision: 0.9742 - recall: 0.9093 - val_accuracy: 0.9429 - val_loss: 0.1666 - val_precision: 0.9645 - val_recall: 0.8603 - learning_rate: 5.0000e-04\n",
            "Epoch 29/50\n",
            "\u001b[1m692/693\u001b[0m \u001b[32m━━━━━━━━━━━━━━━━━━━\u001b[0m\u001b[37m━\u001b[0m \u001b[1m0s\u001b[0m 6ms/step - accuracy: 0.9618 - loss: 0.1010 - precision: 0.9729 - recall: 0.9097\n",
            "Epoch 29: val_loss did not improve from 0.16113\n",
            "\n",
            "Epoch 29: ReduceLROnPlateau reducing learning rate to 0.0002500000118743628.\n",
            "\u001b[1m693/693\u001b[0m \u001b[32m━━━━━━━━━━━━━━━━━━━━\u001b[0m\u001b[37m\u001b[0m \u001b[1m6s\u001b[0m 8ms/step - accuracy: 0.9618 - loss: 0.1010 - precision: 0.9729 - recall: 0.9097 - val_accuracy: 0.9429 - val_loss: 0.1636 - val_precision: 0.9466 - val_recall: 0.8781 - learning_rate: 5.0000e-04\n",
            "Epoch 30/50\n",
            "\u001b[1m693/693\u001b[0m \u001b[32m━━━━━━━━━━━━━━━━━━━━\u001b[0m\u001b[37m\u001b[0m \u001b[1m0s\u001b[0m 7ms/step - accuracy: 0.9649 - loss: 0.0926 - precision: 0.9748 - recall: 0.9207\n",
            "Epoch 30: val_loss did not improve from 0.16113\n",
            "\u001b[1m693/693\u001b[0m \u001b[32m━━━━━━━━━━━━━━━━━━━━\u001b[0m\u001b[37m\u001b[0m \u001b[1m7s\u001b[0m 11ms/step - accuracy: 0.9649 - loss: 0.0926 - precision: 0.9748 - recall: 0.9207 - val_accuracy: 0.9429 - val_loss: 0.1628 - val_precision: 0.9570 - val_recall: 0.8676 - learning_rate: 2.5000e-04\n",
            "Epoch 31/50\n",
            "\u001b[1m687/693\u001b[0m \u001b[32m━━━━━━━━━━━━━━━━━━━\u001b[0m\u001b[37m━\u001b[0m \u001b[1m0s\u001b[0m 7ms/step - accuracy: 0.9667 - loss: 0.0877 - precision: 0.9789 - recall: 0.9205\n",
            "Epoch 31: val_loss did not improve from 0.16113\n",
            "\u001b[1m693/693\u001b[0m \u001b[32m━━━━━━━━━━━━━━━━━━━━\u001b[0m\u001b[37m\u001b[0m \u001b[1m10s\u001b[0m 10ms/step - accuracy: 0.9667 - loss: 0.0877 - precision: 0.9789 - recall: 0.9205 - val_accuracy: 0.9429 - val_loss: 0.1624 - val_precision: 0.9513 - val_recall: 0.8733 - learning_rate: 2.5000e-04\n",
            "Epoch 31: early stopping\n",
            "Restoring model weights from the end of the best epoch: 26.\n"
          ]
        },
        {
          "output_type": "execute_result",
          "data": {
            "text/plain": [
              "<keras.src.callbacks.history.History at 0x7c22f0677690>"
            ]
          },
          "metadata": {},
          "execution_count": 14
        }
      ]
    },
    {
      "cell_type": "code",
      "source": [
        "best_vgg = load_model(\"best_model.keras\", custom_objects={\n",
        "    'recall': recall,\n",
        "    'precision': precision\n",
        "})\n",
        "\n",
        "best_vgg.evaluate(X_test, y_test)"
      ],
      "metadata": {
        "colab": {
          "base_uri": "https://localhost:8080/"
        },
        "id": "wLbBtSgXR2uJ",
        "outputId": "daf25a21-5386-4c6a-c12e-a1a86badb196"
      },
      "execution_count": null,
      "outputs": [
        {
          "output_type": "stream",
          "name": "stdout",
          "text": [
            "\u001b[1m116/116\u001b[0m \u001b[32m━━━━━━━━━━━━━━━━━━━━\u001b[0m\u001b[37m\u001b[0m \u001b[1m3s\u001b[0m 13ms/step - accuracy: 0.9501 - loss: 0.1571 - precision: 0.9593 - recall: 0.8800\n"
          ]
        },
        {
          "output_type": "execute_result",
          "data": {
            "text/plain": [
              "[0.16228215396404266,\n",
              " 0.8813972473144531,\n",
              " 0.9576346278190613,\n",
              " 0.9474824070930481]"
            ]
          },
          "metadata": {},
          "execution_count": 15
        }
      ]
    },
    {
      "cell_type": "markdown",
      "source": [
        "## Simple CNN - Rebecca"
      ],
      "metadata": {
        "id": "w5mTXinXgLfi"
      }
    },
    {
      "cell_type": "code",
      "source": [
        "import tensorflow as tf\n",
        "from tensorflow.keras import layers, models\n",
        "from tensorflow.keras.metrics import Recall\n",
        "model = models.Sequential([\n",
        "    layers.Conv2D(32, (3, 3), activation='relu', input_shape=(32, 32, 3)),\n",
        "    layers.MaxPooling2D(2, 2),\n",
        "\n",
        "    layers.Conv2D(64, (3, 3), activation='relu'),\n",
        "    layers.MaxPooling2D(2, 2),\n",
        "\n",
        "    layers.Conv2D(128, (3, 3), activation='relu'),\n",
        "    layers.MaxPooling2D(2, 2),\n",
        "\n",
        "    layers.Flatten(),\n",
        "\n",
        "    layers.Dense(128, activation='relu'),\n",
        "\n",
        "    layers.Dense(1, activation='sigmoid')\n",
        "])\n",
        "\n",
        "model.compile(optimizer='adam',\n",
        "              loss='binary_crossentropy',\n",
        "              metrics=['accuracy', Recall(name='recall'), Precision(name='precision')])\n",
        "# model.summary()\n"
      ],
      "metadata": {
        "id": "LigANY5exmju"
      },
      "execution_count": null,
      "outputs": []
    },
    {
      "cell_type": "markdown",
      "source": [
        "### monitor = recall"
      ],
      "metadata": {
        "id": "0SirbY7rLLcE"
      }
    },
    {
      "cell_type": "code",
      "source": [
        "callbacks = [\n",
        "    EarlyStopping(monitor='val_recall',mode='max',patience=5,restore_best_weights=True,verbose=1),\n",
        "    ModelCheckpoint('best_model_recall.keras',monitor='val_recall',mode='max',save_best_only=True,verbose=1),\n",
        "    ReduceLROnPlateau(monitor='val_recall',mode='max',factor=0.5,patience=3,min_lr=1e-6,verbose=1)\n",
        "]\n",
        "history = model.fit(\n",
        "    X_train, y_train,\n",
        "    validation_data=(X_val, y_val),\n",
        "    epochs=50,\n",
        "    batch_size=16,\n",
        "    callbacks=callbacks,\n",
        "    verbose=1\n",
        ")"
      ],
      "metadata": {
        "colab": {
          "base_uri": "https://localhost:8080/"
        },
        "id": "3XrQR6CNv_ks",
        "outputId": "5daa54f2-f3cb-4006-8a6f-7746c8fb71b9",
        "collapsed": true
      },
      "execution_count": null,
      "outputs": [
        {
          "output_type": "stream",
          "name": "stdout",
          "text": [
            "Epoch 1/50\n",
            "\u001b[1m693/693\u001b[0m \u001b[32m━━━━━━━━━━━━━━━━━━━━\u001b[0m\u001b[37m\u001b[0m \u001b[1m0s\u001b[0m 4ms/step - accuracy: 0.7852 - loss: 0.4622 - precision: 0.6982 - recall: 0.5132\n",
            "Epoch 1: val_recall improved from -inf to 0.77904, saving model to best_model_recall.keras\n",
            "\u001b[1m693/693\u001b[0m \u001b[32m━━━━━━━━━━━━━━━━━━━━\u001b[0m\u001b[37m\u001b[0m \u001b[1m7s\u001b[0m 6ms/step - accuracy: 0.7852 - loss: 0.4621 - precision: 0.6984 - recall: 0.5134 - val_accuracy: 0.9180 - val_loss: 0.2413 - val_precision: 0.9687 - val_recall: 0.7790 - learning_rate: 0.0010\n",
            "Epoch 2/50\n",
            "\u001b[1m692/693\u001b[0m \u001b[32m━━━━━━━━━━━━━━━━━━━\u001b[0m\u001b[37m━\u001b[0m \u001b[1m0s\u001b[0m 3ms/step - accuracy: 0.9274 - loss: 0.2042 - precision: 0.9363 - recall: 0.8405\n",
            "Epoch 2: val_recall improved from 0.77904 to 0.80666, saving model to best_model_recall.keras\n",
            "\u001b[1m693/693\u001b[0m \u001b[32m━━━━━━━━━━━━━━━━━━━━\u001b[0m\u001b[37m\u001b[0m \u001b[1m3s\u001b[0m 4ms/step - accuracy: 0.9274 - loss: 0.2043 - precision: 0.9363 - recall: 0.8405 - val_accuracy: 0.9299 - val_loss: 0.1987 - val_precision: 0.9793 - val_recall: 0.8067 - learning_rate: 0.0010\n",
            "Epoch 3/50\n",
            "\u001b[1m686/693\u001b[0m \u001b[32m━━━━━━━━━━━━━━━━━━━\u001b[0m\u001b[37m━\u001b[0m \u001b[1m0s\u001b[0m 3ms/step - accuracy: 0.9381 - loss: 0.1725 - precision: 0.9574 - recall: 0.8542\n",
            "Epoch 3: val_recall improved from 0.80666 to 0.82616, saving model to best_model_recall.keras\n",
            "\u001b[1m693/693\u001b[0m \u001b[32m━━━━━━━━━━━━━━━━━━━━\u001b[0m\u001b[37m\u001b[0m \u001b[1m3s\u001b[0m 5ms/step - accuracy: 0.9381 - loss: 0.1725 - precision: 0.9573 - recall: 0.8541 - val_accuracy: 0.9334 - val_loss: 0.1800 - val_precision: 0.9695 - val_recall: 0.8262 - learning_rate: 0.0010\n",
            "Epoch 4/50\n",
            "\u001b[1m680/693\u001b[0m \u001b[32m━━━━━━━━━━━━━━━━━━━\u001b[0m\u001b[37m━\u001b[0m \u001b[1m0s\u001b[0m 4ms/step - accuracy: 0.9461 - loss: 0.1509 - precision: 0.9652 - recall: 0.8694\n",
            "Epoch 4: val_recall improved from 0.82616 to 0.85784, saving model to best_model_recall.keras\n",
            "\u001b[1m693/693\u001b[0m \u001b[32m━━━━━━━━━━━━━━━━━━━━\u001b[0m\u001b[37m\u001b[0m \u001b[1m3s\u001b[0m 5ms/step - accuracy: 0.9460 - loss: 0.1509 - precision: 0.9650 - recall: 0.8693 - val_accuracy: 0.9385 - val_loss: 0.1690 - val_precision: 0.9531 - val_recall: 0.8578 - learning_rate: 0.0010\n",
            "Epoch 5/50\n",
            "\u001b[1m687/693\u001b[0m \u001b[32m━━━━━━━━━━━━━━━━━━━\u001b[0m\u001b[37m━\u001b[0m \u001b[1m0s\u001b[0m 3ms/step - accuracy: 0.9551 - loss: 0.1309 - precision: 0.9670 - recall: 0.8984\n",
            "Epoch 5: val_recall did not improve from 0.85784\n",
            "\u001b[1m693/693\u001b[0m \u001b[32m━━━━━━━━━━━━━━━━━━━━\u001b[0m\u001b[37m\u001b[0m \u001b[1m3s\u001b[0m 4ms/step - accuracy: 0.9551 - loss: 0.1310 - precision: 0.9669 - recall: 0.8983 - val_accuracy: 0.9391 - val_loss: 0.1672 - val_precision: 0.9657 - val_recall: 0.8473 - learning_rate: 0.0010\n",
            "Epoch 6/50\n",
            "\u001b[1m690/693\u001b[0m \u001b[32m━━━━━━━━━━━━━━━━━━━\u001b[0m\u001b[37m━\u001b[0m \u001b[1m0s\u001b[0m 3ms/step - accuracy: 0.9602 - loss: 0.1135 - precision: 0.9690 - recall: 0.9125\n",
            "Epoch 6: val_recall improved from 0.85784 to 0.89602, saving model to best_model_recall.keras\n",
            "\u001b[1m693/693\u001b[0m \u001b[32m━━━━━━━━━━━━━━━━━━━━\u001b[0m\u001b[37m\u001b[0m \u001b[1m5s\u001b[0m 4ms/step - accuracy: 0.9602 - loss: 0.1135 - precision: 0.9689 - recall: 0.9125 - val_accuracy: 0.9369 - val_loss: 0.1700 - val_precision: 0.9131 - val_recall: 0.8960 - learning_rate: 0.0010\n",
            "Epoch 7/50\n",
            "\u001b[1m683/693\u001b[0m \u001b[32m━━━━━━━━━━━━━━━━━━━\u001b[0m\u001b[37m━\u001b[0m \u001b[1m0s\u001b[0m 4ms/step - accuracy: 0.9639 - loss: 0.1015 - precision: 0.9701 - recall: 0.9185\n",
            "Epoch 7: val_recall did not improve from 0.89602\n",
            "\u001b[1m693/693\u001b[0m \u001b[32m━━━━━━━━━━━━━━━━━━━━\u001b[0m\u001b[37m\u001b[0m \u001b[1m6s\u001b[0m 6ms/step - accuracy: 0.9639 - loss: 0.1017 - precision: 0.9700 - recall: 0.9184 - val_accuracy: 0.9342 - val_loss: 0.1806 - val_precision: 0.9117 - val_recall: 0.8887 - learning_rate: 0.0010\n",
            "Epoch 8/50\n",
            "\u001b[1m688/693\u001b[0m \u001b[32m━━━━━━━━━━━━━━━━━━━\u001b[0m\u001b[37m━\u001b[0m \u001b[1m0s\u001b[0m 3ms/step - accuracy: 0.9674 - loss: 0.0850 - precision: 0.9662 - recall: 0.9347\n",
            "Epoch 8: val_recall did not improve from 0.89602\n",
            "\u001b[1m693/693\u001b[0m \u001b[32m━━━━━━━━━━━━━━━━━━━━\u001b[0m\u001b[37m\u001b[0m \u001b[1m3s\u001b[0m 4ms/step - accuracy: 0.9674 - loss: 0.0851 - precision: 0.9662 - recall: 0.9347 - val_accuracy: 0.9483 - val_loss: 0.1527 - val_precision: 0.9506 - val_recall: 0.8911 - learning_rate: 0.0010\n",
            "Epoch 9/50\n",
            "\u001b[1m687/693\u001b[0m \u001b[32m━━━━━━━━━━━━━━━━━━━\u001b[0m\u001b[37m━\u001b[0m \u001b[1m0s\u001b[0m 4ms/step - accuracy: 0.9754 - loss: 0.0670 - precision: 0.9790 - recall: 0.9472\n",
            "Epoch 9: val_recall did not improve from 0.89602\n",
            "\n",
            "Epoch 9: ReduceLROnPlateau reducing learning rate to 0.0005000000237487257.\n",
            "\u001b[1m693/693\u001b[0m \u001b[32m━━━━━━━━━━━━━━━━━━━━\u001b[0m\u001b[37m\u001b[0m \u001b[1m6s\u001b[0m 6ms/step - accuracy: 0.9754 - loss: 0.0671 - precision: 0.9790 - recall: 0.9472 - val_accuracy: 0.9442 - val_loss: 0.1865 - val_precision: 0.9849 - val_recall: 0.8457 - learning_rate: 0.0010\n",
            "Epoch 10/50\n",
            "\u001b[1m689/693\u001b[0m \u001b[32m━━━━━━━━━━━━━━━━━━━\u001b[0m\u001b[37m━\u001b[0m \u001b[1m0s\u001b[0m 3ms/step - accuracy: 0.9836 - loss: 0.0485 - precision: 0.9894 - recall: 0.9602\n",
            "Epoch 10: val_recall improved from 0.89602 to 0.90820, saving model to best_model_recall.keras\n",
            "\u001b[1m693/693\u001b[0m \u001b[32m━━━━━━━━━━━━━━━━━━━━\u001b[0m\u001b[37m\u001b[0m \u001b[1m3s\u001b[0m 4ms/step - accuracy: 0.9836 - loss: 0.0485 - precision: 0.9894 - recall: 0.9602 - val_accuracy: 0.9415 - val_loss: 0.1768 - val_precision: 0.9156 - val_recall: 0.9082 - learning_rate: 5.0000e-04\n",
            "Epoch 11/50\n",
            "\u001b[1m690/693\u001b[0m \u001b[32m━━━━━━━━━━━━━━━━━━━\u001b[0m\u001b[37m━\u001b[0m \u001b[1m0s\u001b[0m 3ms/step - accuracy: 0.9891 - loss: 0.0352 - precision: 0.9895 - recall: 0.9778\n",
            "Epoch 11: val_recall did not improve from 0.90820\n",
            "\u001b[1m693/693\u001b[0m \u001b[32m━━━━━━━━━━━━━━━━━━━━\u001b[0m\u001b[37m\u001b[0m \u001b[1m5s\u001b[0m 4ms/step - accuracy: 0.9891 - loss: 0.0352 - precision: 0.9895 - recall: 0.9778 - val_accuracy: 0.9486 - val_loss: 0.2320 - val_precision: 0.9635 - val_recall: 0.8790 - learning_rate: 5.0000e-04\n",
            "Epoch 12/50\n",
            "\u001b[1m687/693\u001b[0m \u001b[32m━━━━━━━━━━━━━━━━━━━\u001b[0m\u001b[37m━\u001b[0m \u001b[1m0s\u001b[0m 4ms/step - accuracy: 0.9898 - loss: 0.0280 - precision: 0.9913 - recall: 0.9779\n",
            "Epoch 12: val_recall did not improve from 0.90820\n",
            "\u001b[1m693/693\u001b[0m \u001b[32m━━━━━━━━━━━━━━━━━━━━\u001b[0m\u001b[37m\u001b[0m \u001b[1m6s\u001b[0m 5ms/step - accuracy: 0.9898 - loss: 0.0280 - precision: 0.9913 - recall: 0.9779 - val_accuracy: 0.9396 - val_loss: 0.2308 - val_precision: 0.9138 - val_recall: 0.9041 - learning_rate: 5.0000e-04\n",
            "Epoch 13/50\n",
            "\u001b[1m682/693\u001b[0m \u001b[32m━━━━━━━━━━━━━━━━━━━\u001b[0m\u001b[37m━\u001b[0m \u001b[1m0s\u001b[0m 3ms/step - accuracy: 0.9921 - loss: 0.0244 - precision: 0.9923 - recall: 0.9842\n",
            "Epoch 13: val_recall did not improve from 0.90820\n",
            "\n",
            "Epoch 13: ReduceLROnPlateau reducing learning rate to 0.0002500000118743628.\n",
            "\u001b[1m693/693\u001b[0m \u001b[32m━━━━━━━━━━━━━━━━━━━━\u001b[0m\u001b[37m\u001b[0m \u001b[1m3s\u001b[0m 4ms/step - accuracy: 0.9921 - loss: 0.0245 - precision: 0.9923 - recall: 0.9841 - val_accuracy: 0.9459 - val_loss: 0.2630 - val_precision: 0.9448 - val_recall: 0.8895 - learning_rate: 5.0000e-04\n",
            "Epoch 14/50\n",
            "\u001b[1m680/693\u001b[0m \u001b[32m━━━━━━━━━━━━━━━━━━━\u001b[0m\u001b[37m━\u001b[0m \u001b[1m0s\u001b[0m 3ms/step - accuracy: 0.9948 - loss: 0.0189 - precision: 0.9944 - recall: 0.9901\n",
            "Epoch 14: val_recall did not improve from 0.90820\n",
            "\u001b[1m693/693\u001b[0m \u001b[32m━━━━━━━━━━━━━━━━━━━━\u001b[0m\u001b[37m\u001b[0m \u001b[1m3s\u001b[0m 4ms/step - accuracy: 0.9949 - loss: 0.0188 - precision: 0.9944 - recall: 0.9901 - val_accuracy: 0.9496 - val_loss: 0.2634 - val_precision: 0.9612 - val_recall: 0.8846 - learning_rate: 2.5000e-04\n",
            "Epoch 15/50\n",
            "\u001b[1m693/693\u001b[0m \u001b[32m━━━━━━━━━━━━━━━━━━━━\u001b[0m\u001b[37m\u001b[0m \u001b[1m0s\u001b[0m 4ms/step - accuracy: 0.9971 - loss: 0.0110 - precision: 0.9989 - recall: 0.9924\n",
            "Epoch 15: val_recall did not improve from 0.90820\n",
            "\u001b[1m693/693\u001b[0m \u001b[32m━━━━━━━━━━━━━━━━━━━━\u001b[0m\u001b[37m\u001b[0m \u001b[1m6s\u001b[0m 5ms/step - accuracy: 0.9971 - loss: 0.0110 - precision: 0.9989 - recall: 0.9924 - val_accuracy: 0.9526 - val_loss: 0.2989 - val_precision: 0.9731 - val_recall: 0.8822 - learning_rate: 2.5000e-04\n",
            "Epoch 15: early stopping\n",
            "Restoring model weights from the end of the best epoch: 10.\n"
          ]
        }
      ]
    },
    {
      "cell_type": "code",
      "source": [
        "model = load_model('best_model_recall.keras')\n",
        "model.compile(optimizer='adam', loss='binary_crossentropy', metrics=['accuracy', Recall(name='recall'), Precision(name='precision')])\n",
        "results = model.evaluate(X_test, y_test, batch_size=16, verbose=1)"
      ],
      "metadata": {
        "colab": {
          "base_uri": "https://localhost:8080/"
        },
        "id": "n-kcaPgpxtFG",
        "outputId": "8f4ed7a6-b030-4152-faa0-08774edffede"
      },
      "execution_count": null,
      "outputs": [
        {
          "output_type": "stream",
          "name": "stdout",
          "text": [
            "\u001b[1m231/231\u001b[0m \u001b[32m━━━━━━━━━━━━━━━━━━━━\u001b[0m\u001b[37m\u001b[0m \u001b[1m2s\u001b[0m 4ms/step - accuracy: 0.9378 - loss: 0.1788 - precision: 0.8943 - recall: 0.9120\n"
          ]
        }
      ]
    },
    {
      "cell_type": "markdown",
      "source": [
        "### monitor = loss"
      ],
      "metadata": {
        "id": "ek5lzv9kLRiK"
      }
    },
    {
      "cell_type": "code",
      "source": [
        "callbacks = [\n",
        "    EarlyStopping(monitor='val_loss',mode='min',patience=5,restore_best_weights=True,verbose=1),\n",
        "    ModelCheckpoint('best_model_loss.keras',monitor='val_loss',mode='min',save_best_only=True,verbose=1),\n",
        "    ReduceLROnPlateau(monitor='val_loss',mode='min',factor=0.5,patience=3,min_lr=1e-6,verbose=1)\n",
        "]\n",
        "history = model.fit(\n",
        "    X_train, y_train,\n",
        "    validation_data=(X_val, y_val),\n",
        "    epochs=50,\n",
        "    batch_size=16,\n",
        "    callbacks=callbacks,\n",
        "    verbose=1\n",
        ")"
      ],
      "metadata": {
        "colab": {
          "base_uri": "https://localhost:8080/"
        },
        "collapsed": true,
        "id": "2hCuJjYwLf5J",
        "outputId": "08ba68de-a046-45fa-d9b8-624544f69496"
      },
      "execution_count": null,
      "outputs": [
        {
          "output_type": "stream",
          "name": "stdout",
          "text": [
            "Epoch 1/50\n",
            "\u001b[1m693/693\u001b[0m \u001b[32m━━━━━━━━━━━━━━━━━━━━\u001b[0m\u001b[37m\u001b[0m \u001b[1m0s\u001b[0m 4ms/step - accuracy: 0.7942 - loss: 0.4450 - precision: 0.7070 - recall: 0.5499\n",
            "Epoch 1: val_loss improved from inf to 0.25726, saving model to best_model_loss.keras\n",
            "\u001b[1m693/693\u001b[0m \u001b[32m━━━━━━━━━━━━━━━━━━━━\u001b[0m\u001b[37m\u001b[0m \u001b[1m7s\u001b[0m 7ms/step - accuracy: 0.7943 - loss: 0.4449 - precision: 0.7071 - recall: 0.5501 - val_accuracy: 0.8931 - val_loss: 0.2573 - val_precision: 0.8297 - val_recall: 0.8546 - learning_rate: 0.0010\n",
            "Epoch 2/50\n",
            "\u001b[1m689/693\u001b[0m \u001b[32m━━━━━━━━━━━━━━━━━━━\u001b[0m\u001b[37m━\u001b[0m \u001b[1m0s\u001b[0m 3ms/step - accuracy: 0.9136 - loss: 0.2309 - precision: 0.9170 - recall: 0.8198\n",
            "Epoch 2: val_loss improved from 0.25726 to 0.20250, saving model to best_model_loss.keras\n",
            "\u001b[1m693/693\u001b[0m \u001b[32m━━━━━━━━━━━━━━━━━━━━\u001b[0m\u001b[37m\u001b[0m \u001b[1m7s\u001b[0m 4ms/step - accuracy: 0.9136 - loss: 0.2308 - precision: 0.9171 - recall: 0.8199 - val_accuracy: 0.9323 - val_loss: 0.2025 - val_precision: 0.9415 - val_recall: 0.8497 - learning_rate: 0.0010\n",
            "Epoch 3/50\n",
            "\u001b[1m693/693\u001b[0m \u001b[32m━━━━━━━━━━━━━━━━━━━━\u001b[0m\u001b[37m\u001b[0m \u001b[1m0s\u001b[0m 3ms/step - accuracy: 0.9350 - loss: 0.1789 - precision: 0.9548 - recall: 0.8414\n",
            "Epoch 3: val_loss did not improve from 0.20250\n",
            "\u001b[1m693/693\u001b[0m \u001b[32m━━━━━━━━━━━━━━━━━━━━\u001b[0m\u001b[37m\u001b[0m \u001b[1m5s\u001b[0m 4ms/step - accuracy: 0.9350 - loss: 0.1789 - precision: 0.9548 - recall: 0.8414 - val_accuracy: 0.9356 - val_loss: 0.2034 - val_precision: 0.9469 - val_recall: 0.8546 - learning_rate: 0.0010\n",
            "Epoch 4/50\n",
            "\u001b[1m691/693\u001b[0m \u001b[32m━━━━━━━━━━━━━━━━━━━\u001b[0m\u001b[37m━\u001b[0m \u001b[1m0s\u001b[0m 3ms/step - accuracy: 0.9448 - loss: 0.1493 - precision: 0.9574 - recall: 0.8734\n",
            "Epoch 4: val_loss improved from 0.20250 to 0.18174, saving model to best_model_loss.keras\n",
            "\u001b[1m693/693\u001b[0m \u001b[32m━━━━━━━━━━━━━━━━━━━━\u001b[0m\u001b[37m\u001b[0m \u001b[1m3s\u001b[0m 5ms/step - accuracy: 0.9448 - loss: 0.1493 - precision: 0.9574 - recall: 0.8734 - val_accuracy: 0.9353 - val_loss: 0.1817 - val_precision: 0.9218 - val_recall: 0.8806 - learning_rate: 0.0010\n",
            "Epoch 5/50\n",
            "\u001b[1m691/693\u001b[0m \u001b[32m━━━━━━━━━━━━━━━━━━━\u001b[0m\u001b[37m━\u001b[0m \u001b[1m0s\u001b[0m 4ms/step - accuracy: 0.9526 - loss: 0.1315 - precision: 0.9694 - recall: 0.8841\n",
            "Epoch 5: val_loss improved from 0.18174 to 0.18013, saving model to best_model_loss.keras\n",
            "\u001b[1m693/693\u001b[0m \u001b[32m━━━━━━━━━━━━━━━━━━━━\u001b[0m\u001b[37m\u001b[0m \u001b[1m3s\u001b[0m 5ms/step - accuracy: 0.9525 - loss: 0.1315 - precision: 0.9694 - recall: 0.8841 - val_accuracy: 0.9364 - val_loss: 0.1801 - val_precision: 0.9816 - val_recall: 0.8245 - learning_rate: 0.0010\n",
            "Epoch 6/50\n",
            "\u001b[1m684/693\u001b[0m \u001b[32m━━━━━━━━━━━━━━━━━━━\u001b[0m\u001b[37m━\u001b[0m \u001b[1m0s\u001b[0m 3ms/step - accuracy: 0.9587 - loss: 0.1155 - precision: 0.9656 - recall: 0.9109\n",
            "Epoch 6: val_loss improved from 0.18013 to 0.17922, saving model to best_model_loss.keras\n",
            "\u001b[1m693/693\u001b[0m \u001b[32m━━━━━━━━━━━━━━━━━━━━\u001b[0m\u001b[37m\u001b[0m \u001b[1m5s\u001b[0m 4ms/step - accuracy: 0.9586 - loss: 0.1155 - precision: 0.9656 - recall: 0.9108 - val_accuracy: 0.9402 - val_loss: 0.1792 - val_precision: 0.9591 - val_recall: 0.8570 - learning_rate: 0.0010\n",
            "Epoch 7/50\n",
            "\u001b[1m692/693\u001b[0m \u001b[32m━━━━━━━━━━━━━━━━━━━\u001b[0m\u001b[37m━\u001b[0m \u001b[1m0s\u001b[0m 3ms/step - accuracy: 0.9641 - loss: 0.0978 - precision: 0.9733 - recall: 0.9190\n",
            "Epoch 7: val_loss did not improve from 0.17922\n",
            "\u001b[1m693/693\u001b[0m \u001b[32m━━━━━━━━━━━━━━━━━━━━\u001b[0m\u001b[37m\u001b[0m \u001b[1m5s\u001b[0m 5ms/step - accuracy: 0.9641 - loss: 0.0978 - precision: 0.9733 - recall: 0.9190 - val_accuracy: 0.9277 - val_loss: 0.1937 - val_precision: 0.9849 - val_recall: 0.7953 - learning_rate: 0.0010\n",
            "Epoch 8/50\n",
            "\u001b[1m690/693\u001b[0m \u001b[32m━━━━━━━━━━━━━━━━━━━\u001b[0m\u001b[37m━\u001b[0m \u001b[1m0s\u001b[0m 3ms/step - accuracy: 0.9707 - loss: 0.0860 - precision: 0.9775 - recall: 0.9333\n",
            "Epoch 8: val_loss did not improve from 0.17922\n",
            "\u001b[1m693/693\u001b[0m \u001b[32m━━━━━━━━━━━━━━━━━━━━\u001b[0m\u001b[37m\u001b[0m \u001b[1m5s\u001b[0m 4ms/step - accuracy: 0.9707 - loss: 0.0860 - precision: 0.9775 - recall: 0.9333 - val_accuracy: 0.9421 - val_loss: 0.1958 - val_precision: 0.9644 - val_recall: 0.8578 - learning_rate: 0.0010\n",
            "Epoch 9/50\n",
            "\u001b[1m687/693\u001b[0m \u001b[32m━━━━━━━━━━━━━━━━━━━\u001b[0m\u001b[37m━\u001b[0m \u001b[1m0s\u001b[0m 3ms/step - accuracy: 0.9721 - loss: 0.0745 - precision: 0.9781 - recall: 0.9396\n",
            "Epoch 9: val_loss did not improve from 0.17922\n",
            "\n",
            "Epoch 9: ReduceLROnPlateau reducing learning rate to 0.0005000000237487257.\n",
            "\u001b[1m693/693\u001b[0m \u001b[32m━━━━━━━━━━━━━━━━━━━━\u001b[0m\u001b[37m\u001b[0m \u001b[1m3s\u001b[0m 4ms/step - accuracy: 0.9721 - loss: 0.0745 - precision: 0.9780 - recall: 0.9397 - val_accuracy: 0.9437 - val_loss: 0.1795 - val_precision: 0.9604 - val_recall: 0.8668 - learning_rate: 0.0010\n",
            "Epoch 10/50\n",
            "\u001b[1m682/693\u001b[0m \u001b[32m━━━━━━━━━━━━━━━━━━━\u001b[0m\u001b[37m━\u001b[0m \u001b[1m0s\u001b[0m 3ms/step - accuracy: 0.9854 - loss: 0.0462 - precision: 0.9879 - recall: 0.9677\n",
            "Epoch 10: val_loss did not improve from 0.17922\n",
            "\u001b[1m693/693\u001b[0m \u001b[32m━━━━━━━━━━━━━━━━━━━━\u001b[0m\u001b[37m\u001b[0m \u001b[1m3s\u001b[0m 4ms/step - accuracy: 0.9854 - loss: 0.0462 - precision: 0.9878 - recall: 0.9677 - val_accuracy: 0.9337 - val_loss: 0.2161 - val_precision: 0.8840 - val_recall: 0.9220 - learning_rate: 5.0000e-04\n",
            "Epoch 11/50\n",
            "\u001b[1m688/693\u001b[0m \u001b[32m━━━━━━━━━━━━━━━━━━━\u001b[0m\u001b[37m━\u001b[0m \u001b[1m0s\u001b[0m 4ms/step - accuracy: 0.9894 - loss: 0.0342 - precision: 0.9913 - recall: 0.9763\n",
            "Epoch 11: val_loss did not improve from 0.17922\n",
            "\u001b[1m693/693\u001b[0m \u001b[32m━━━━━━━━━━━━━━━━━━━━\u001b[0m\u001b[37m\u001b[0m \u001b[1m4s\u001b[0m 5ms/step - accuracy: 0.9894 - loss: 0.0342 - precision: 0.9913 - recall: 0.9763 - val_accuracy: 0.9348 - val_loss: 0.2295 - val_precision: 0.8973 - val_recall: 0.9082 - learning_rate: 5.0000e-04\n",
            "Epoch 11: early stopping\n",
            "Restoring model weights from the end of the best epoch: 6.\n"
          ]
        }
      ]
    },
    {
      "cell_type": "code",
      "source": [
        "model = load_model('best_model_loss.keras')\n",
        "model.compile(optimizer='adam', loss='binary_crossentropy', metrics=['accuracy', Recall(name='recall'), Precision(name='precision')])\n",
        "results = model.evaluate(X_test, y_test, batch_size=16, verbose=1)"
      ],
      "metadata": {
        "colab": {
          "base_uri": "https://localhost:8080/"
        },
        "id": "GaTLxe1QLTya",
        "outputId": "7899d152-2c2d-4486-de3c-cefc99bb7444"
      },
      "execution_count": null,
      "outputs": [
        {
          "output_type": "stream",
          "name": "stdout",
          "text": [
            "\u001b[1m231/231\u001b[0m \u001b[32m━━━━━━━━━━━━━━━━━━━━\u001b[0m\u001b[37m\u001b[0m \u001b[1m2s\u001b[0m 5ms/step - accuracy: 0.9448 - loss: 0.1641 - precision: 0.9450 - recall: 0.8771\n"
          ]
        }
      ]
    },
    {
      "cell_type": "markdown",
      "source": [
        "## InceptionV3 - Vicki"
      ],
      "metadata": {
        "id": "kieVUtDM7fvI"
      }
    },
    {
      "cell_type": "code",
      "source": [
        "from tensorflow.keras.applications import InceptionV3\n",
        "from tensorflow.keras.models import Model\n",
        "from tensorflow.keras.layers import GlobalAveragePooling2D, Dense, Input, Resizing\n",
        "from tensorflow.keras.optimizers import Adam\n",
        "from tensorflow.keras.metrics import Precision, Recall\n",
        "from tensorflow.keras.callbacks import Callback, ReduceLROnPlateau\n",
        "import tensorflow.keras.backend as K\n",
        "\n",
        "\n",
        "def build_inception_model():\n",
        "    inputs = Input(shape=(32, 32, 3))\n",
        "    x = Resizing(128, 128)(inputs)\n",
        "    base = InceptionV3(weights=None, include_top=False, input_tensor=x)\n",
        "    x = GlobalAveragePooling2D()(base.output)\n",
        "    output = Dense(1, activation='sigmoid')(x)\n",
        "    return Model(inputs=inputs, outputs=output)\n",
        "\n",
        "inception = build_inception_model()\n",
        "\n",
        "callbacks = [\n",
        "    ModelCheckpoint(\"best_model.keras\", save_best_only=True, monitor=\"val_loss\", verbose=1),\n",
        "    ReduceLROnPlateau(monitor=\"val_loss\", factor=0.5, patience=3, min_lr=1e-6, verbose=1),\n",
        "    EarlyStopping(monitor=\"val_loss\", patience=5, restore_best_weights=True, verbose=1),\n",
        "]\n",
        "\n",
        "inception.compile(\n",
        "    optimizer=Adam(1e-4),\n",
        "    loss='binary_crossentropy',\n",
        "    metrics=['accuracy', Precision(name='precision'), Recall(name='recall')]\n",
        ")\n",
        "\n",
        "inception.fit(\n",
        "    X_train, y_train,\n",
        "    validation_data=(X_val, y_val),\n",
        "    epochs=50,\n",
        "    batch_size=16,\n",
        "    callbacks=callbacks,\n",
        "    verbose=1\n",
        ")"
      ],
      "metadata": {
        "id": "dnbgy0bI7j11",
        "colab": {
          "base_uri": "https://localhost:8080/"
        },
        "outputId": "282aa55a-8057-42f3-f0e8-b338659597dc",
        "collapsed": true
      },
      "execution_count": null,
      "outputs": [
        {
          "output_type": "stream",
          "name": "stdout",
          "text": [
            "Epoch 1/50\n",
            "\u001b[1m693/693\u001b[0m \u001b[32m━━━━━━━━━━━━━━━━━━━━\u001b[0m\u001b[37m\u001b[0m \u001b[1m0s\u001b[0m 100ms/step - accuracy: 0.7719 - loss: 0.5070 - precision: 0.6832 - recall: 0.6020\n",
            "Epoch 1: val_loss improved from inf to 0.31389, saving model to best_model.keras\n",
            "\u001b[1m693/693\u001b[0m \u001b[32m━━━━━━━━━━━━━━━━━━━━\u001b[0m\u001b[37m\u001b[0m \u001b[1m165s\u001b[0m 137ms/step - accuracy: 0.7720 - loss: 0.5069 - precision: 0.6833 - recall: 0.6020 - val_accuracy: 0.8776 - val_loss: 0.3139 - val_precision: 0.8438 - val_recall: 0.7766 - learning_rate: 1.0000e-04\n",
            "Epoch 2/50\n",
            "\u001b[1m693/693\u001b[0m \u001b[32m━━━━━━━━━━━━━━━━━━━━\u001b[0m\u001b[37m\u001b[0m \u001b[1m0s\u001b[0m 58ms/step - accuracy: 0.8608 - loss: 0.3467 - precision: 0.8247 - recall: 0.7241\n",
            "Epoch 2: val_loss improved from 0.31389 to 0.27009, saving model to best_model.keras\n",
            "\u001b[1m693/693\u001b[0m \u001b[32m━━━━━━━━━━━━━━━━━━━━\u001b[0m\u001b[37m\u001b[0m \u001b[1m61s\u001b[0m 66ms/step - accuracy: 0.8609 - loss: 0.3467 - precision: 0.8247 - recall: 0.7241 - val_accuracy: 0.9058 - val_loss: 0.2701 - val_precision: 0.9575 - val_recall: 0.7506 - learning_rate: 1.0000e-04\n",
            "Epoch 3/50\n",
            "\u001b[1m693/693\u001b[0m \u001b[32m━━━━━━━━━━━━━━━━━━━━\u001b[0m\u001b[37m\u001b[0m \u001b[1m0s\u001b[0m 60ms/step - accuracy: 0.8942 - loss: 0.2742 - precision: 0.8820 - recall: 0.7968\n",
            "Epoch 3: val_loss improved from 0.27009 to 0.26175, saving model to best_model.keras\n",
            "\u001b[1m693/693\u001b[0m \u001b[32m━━━━━━━━━━━━━━━━━━━━\u001b[0m\u001b[37m\u001b[0m \u001b[1m85s\u001b[0m 71ms/step - accuracy: 0.8942 - loss: 0.2742 - precision: 0.8820 - recall: 0.7968 - val_accuracy: 0.9104 - val_loss: 0.2618 - val_precision: 0.9198 - val_recall: 0.8010 - learning_rate: 1.0000e-04\n",
            "Epoch 4/50\n",
            "\u001b[1m693/693\u001b[0m \u001b[32m━━━━━━━━━━━━━━━━━━━━\u001b[0m\u001b[37m\u001b[0m \u001b[1m0s\u001b[0m 61ms/step - accuracy: 0.9087 - loss: 0.2409 - precision: 0.8969 - recall: 0.8181\n",
            "Epoch 4: val_loss improved from 0.26175 to 0.23439, saving model to best_model.keras\n",
            "\u001b[1m693/693\u001b[0m \u001b[32m━━━━━━━━━━━━━━━━━━━━\u001b[0m\u001b[37m\u001b[0m \u001b[1m86s\u001b[0m 77ms/step - accuracy: 0.9087 - loss: 0.2409 - precision: 0.8969 - recall: 0.8181 - val_accuracy: 0.9185 - val_loss: 0.2344 - val_precision: 0.9463 - val_recall: 0.8010 - learning_rate: 1.0000e-04\n",
            "Epoch 5/50\n",
            "\u001b[1m692/693\u001b[0m \u001b[32m━━━━━━━━━━━━━━━━━━━\u001b[0m\u001b[37m━\u001b[0m \u001b[1m0s\u001b[0m 60ms/step - accuracy: 0.9191 - loss: 0.2154 - precision: 0.9042 - recall: 0.8455\n",
            "Epoch 5: val_loss improved from 0.23439 to 0.21306, saving model to best_model.keras\n",
            "\u001b[1m693/693\u001b[0m \u001b[32m━━━━━━━━━━━━━━━━━━━━\u001b[0m\u001b[37m\u001b[0m \u001b[1m77s\u001b[0m 69ms/step - accuracy: 0.9191 - loss: 0.2154 - precision: 0.9042 - recall: 0.8455 - val_accuracy: 0.9310 - val_loss: 0.2131 - val_precision: 0.9949 - val_recall: 0.7969 - learning_rate: 1.0000e-04\n",
            "Epoch 6/50\n",
            "\u001b[1m693/693\u001b[0m \u001b[32m━━━━━━━━━━━━━━━━━━━━\u001b[0m\u001b[37m\u001b[0m \u001b[1m0s\u001b[0m 61ms/step - accuracy: 0.9332 - loss: 0.1923 - precision: 0.9352 - recall: 0.8612\n",
            "Epoch 6: val_loss improved from 0.21306 to 0.17979, saving model to best_model.keras\n",
            "\u001b[1m693/693\u001b[0m \u001b[32m━━━━━━━━━━━━━━━━━━━━\u001b[0m\u001b[37m\u001b[0m \u001b[1m88s\u001b[0m 79ms/step - accuracy: 0.9332 - loss: 0.1922 - precision: 0.9352 - recall: 0.8612 - val_accuracy: 0.9377 - val_loss: 0.1798 - val_precision: 0.9181 - val_recall: 0.8928 - learning_rate: 1.0000e-04\n",
            "Epoch 7/50\n",
            "\u001b[1m692/693\u001b[0m \u001b[32m━━━━━━━━━━━━━━━━━━━\u001b[0m\u001b[37m━\u001b[0m \u001b[1m0s\u001b[0m 62ms/step - accuracy: 0.9383 - loss: 0.1722 - precision: 0.9317 - recall: 0.8830\n",
            "Epoch 7: val_loss improved from 0.17979 to 0.17016, saving model to best_model.keras\n",
            "\u001b[1m693/693\u001b[0m \u001b[32m━━━━━━━━━━━━━━━━━━━━\u001b[0m\u001b[37m\u001b[0m \u001b[1m76s\u001b[0m 70ms/step - accuracy: 0.9383 - loss: 0.1722 - precision: 0.9317 - recall: 0.8830 - val_accuracy: 0.9418 - val_loss: 0.1702 - val_precision: 0.9544 - val_recall: 0.8668 - learning_rate: 1.0000e-04\n",
            "Epoch 8/50\n",
            "\u001b[1m693/693\u001b[0m \u001b[32m━━━━━━━━━━━━━━━━━━━━\u001b[0m\u001b[37m\u001b[0m \u001b[1m0s\u001b[0m 62ms/step - accuracy: 0.9445 - loss: 0.1638 - precision: 0.9412 - recall: 0.8899\n",
            "Epoch 8: val_loss did not improve from 0.17016\n",
            "\u001b[1m693/693\u001b[0m \u001b[32m━━━━━━━━━━━━━━━━━━━━\u001b[0m\u001b[37m\u001b[0m \u001b[1m81s\u001b[0m 69ms/step - accuracy: 0.9445 - loss: 0.1638 - precision: 0.9412 - recall: 0.8899 - val_accuracy: 0.9269 - val_loss: 0.4271 - val_precision: 0.9204 - val_recall: 0.8546 - learning_rate: 1.0000e-04\n",
            "Epoch 9/50\n",
            "\u001b[1m692/693\u001b[0m \u001b[32m━━━━━━━━━━━━━━━━━━━\u001b[0m\u001b[37m━\u001b[0m \u001b[1m0s\u001b[0m 61ms/step - accuracy: 0.9481 - loss: 0.1508 - precision: 0.9433 - recall: 0.8997\n",
            "Epoch 9: val_loss did not improve from 0.17016\n",
            "\u001b[1m693/693\u001b[0m \u001b[32m━━━━━━━━━━━━━━━━━━━━\u001b[0m\u001b[37m\u001b[0m \u001b[1m80s\u001b[0m 66ms/step - accuracy: 0.9481 - loss: 0.1508 - precision: 0.9433 - recall: 0.8997 - val_accuracy: 0.9448 - val_loss: 0.1920 - val_precision: 0.9556 - val_recall: 0.8749 - learning_rate: 1.0000e-04\n",
            "Epoch 10/50\n",
            "\u001b[1m693/693\u001b[0m \u001b[32m━━━━━━━━━━━━━━━━━━━━\u001b[0m\u001b[37m\u001b[0m \u001b[1m0s\u001b[0m 61ms/step - accuracy: 0.9595 - loss: 0.1289 - precision: 0.9623 - recall: 0.9143\n",
            "Epoch 10: val_loss did not improve from 0.17016\n",
            "\n",
            "Epoch 10: ReduceLROnPlateau reducing learning rate to 4.999999873689376e-05.\n",
            "\u001b[1m693/693\u001b[0m \u001b[32m━━━━━━━━━━━━━━━━━━━━\u001b[0m\u001b[37m\u001b[0m \u001b[1m82s\u001b[0m 66ms/step - accuracy: 0.9595 - loss: 0.1289 - precision: 0.9622 - recall: 0.9143 - val_accuracy: 0.9228 - val_loss: 0.2398 - val_precision: 0.8690 - val_recall: 0.9050 - learning_rate: 1.0000e-04\n",
            "Epoch 11/50\n",
            "\u001b[1m692/693\u001b[0m \u001b[32m━━━━━━━━━━━━━━━━━━━\u001b[0m\u001b[37m━\u001b[0m \u001b[1m0s\u001b[0m 60ms/step - accuracy: 0.9539 - loss: 0.1262 - precision: 0.9473 - recall: 0.9117\n",
            "Epoch 11: val_loss did not improve from 0.17016\n",
            "\u001b[1m693/693\u001b[0m \u001b[32m━━━━━━━━━━━━━━━━━━━━\u001b[0m\u001b[37m\u001b[0m \u001b[1m47s\u001b[0m 68ms/step - accuracy: 0.9539 - loss: 0.1261 - precision: 0.9473 - recall: 0.9117 - val_accuracy: 0.9334 - val_loss: 0.1816 - val_precision: 0.8851 - val_recall: 0.9196 - learning_rate: 5.0000e-05\n",
            "Epoch 12/50\n",
            "\u001b[1m693/693\u001b[0m \u001b[32m━━━━━━━━━━━━━━━━━━━━\u001b[0m\u001b[37m\u001b[0m \u001b[1m0s\u001b[0m 61ms/step - accuracy: 0.9687 - loss: 0.0972 - precision: 0.9715 - recall: 0.9357\n",
            "Epoch 12: val_loss improved from 0.17016 to 0.14387, saving model to best_model.keras\n",
            "\u001b[1m693/693\u001b[0m \u001b[32m━━━━━━━━━━━━━━━━━━━━\u001b[0m\u001b[37m\u001b[0m \u001b[1m83s\u001b[0m 69ms/step - accuracy: 0.9687 - loss: 0.0972 - precision: 0.9715 - recall: 0.9357 - val_accuracy: 0.9521 - val_loss: 0.1439 - val_precision: 0.9826 - val_recall: 0.8716 - learning_rate: 5.0000e-05\n",
            "Epoch 13/50\n",
            "\u001b[1m692/693\u001b[0m \u001b[32m━━━━━━━━━━━━━━━━━━━\u001b[0m\u001b[37m━\u001b[0m \u001b[1m0s\u001b[0m 60ms/step - accuracy: 0.9722 - loss: 0.0836 - precision: 0.9739 - recall: 0.9403\n",
            "Epoch 13: val_loss did not improve from 0.14387\n",
            "\u001b[1m693/693\u001b[0m \u001b[32m━━━━━━━━━━━━━━━━━━━━\u001b[0m\u001b[37m\u001b[0m \u001b[1m45s\u001b[0m 65ms/step - accuracy: 0.9722 - loss: 0.0836 - precision: 0.9739 - recall: 0.9402 - val_accuracy: 0.9486 - val_loss: 0.1687 - val_precision: 0.9878 - val_recall: 0.8562 - learning_rate: 5.0000e-05\n",
            "Epoch 14/50\n",
            "\u001b[1m692/693\u001b[0m \u001b[32m━━━━━━━━━━━━━━━━━━━\u001b[0m\u001b[37m━\u001b[0m \u001b[1m0s\u001b[0m 60ms/step - accuracy: 0.9769 - loss: 0.0640 - precision: 0.9759 - recall: 0.9536\n",
            "Epoch 14: val_loss did not improve from 0.14387\n",
            "\u001b[1m693/693\u001b[0m \u001b[32m━━━━━━━━━━━━━━━━━━━━\u001b[0m\u001b[37m\u001b[0m \u001b[1m82s\u001b[0m 65ms/step - accuracy: 0.9769 - loss: 0.0640 - precision: 0.9759 - recall: 0.9535 - val_accuracy: 0.9521 - val_loss: 0.1439 - val_precision: 0.9285 - val_recall: 0.9277 - learning_rate: 5.0000e-05\n",
            "Epoch 15/50\n",
            "\u001b[1m693/693\u001b[0m \u001b[32m━━━━━━━━━━━━━━━━━━━━\u001b[0m\u001b[37m\u001b[0m \u001b[1m0s\u001b[0m 60ms/step - accuracy: 0.9775 - loss: 0.0627 - precision: 0.9799 - recall: 0.9526\n",
            "Epoch 15: val_loss improved from 0.14387 to 0.14360, saving model to best_model.keras\n",
            "\u001b[1m693/693\u001b[0m \u001b[32m━━━━━━━━━━━━━━━━━━━━\u001b[0m\u001b[37m\u001b[0m \u001b[1m47s\u001b[0m 68ms/step - accuracy: 0.9775 - loss: 0.0627 - precision: 0.9799 - recall: 0.9526 - val_accuracy: 0.9540 - val_loss: 0.1436 - val_precision: 0.9530 - val_recall: 0.9066 - learning_rate: 5.0000e-05\n",
            "Epoch 16/50\n",
            "\u001b[1m693/693\u001b[0m \u001b[32m━━━━━━━━━━━━━━━━━━━━\u001b[0m\u001b[37m\u001b[0m \u001b[1m0s\u001b[0m 60ms/step - accuracy: 0.9807 - loss: 0.0571 - precision: 0.9790 - recall: 0.9625\n",
            "Epoch 16: val_loss did not improve from 0.14360\n",
            "\u001b[1m693/693\u001b[0m \u001b[32m━━━━━━━━━━━━━━━━━━━━\u001b[0m\u001b[37m\u001b[0m \u001b[1m82s\u001b[0m 68ms/step - accuracy: 0.9807 - loss: 0.0571 - precision: 0.9790 - recall: 0.9625 - val_accuracy: 0.9293 - val_loss: 0.2040 - val_precision: 0.8669 - val_recall: 0.9310 - learning_rate: 5.0000e-05\n",
            "Epoch 17/50\n",
            "\u001b[1m693/693\u001b[0m \u001b[32m━━━━━━━━━━━━━━━━━━━━\u001b[0m\u001b[37m\u001b[0m \u001b[1m0s\u001b[0m 60ms/step - accuracy: 0.9776 - loss: 0.0666 - precision: 0.9721 - recall: 0.9596\n",
            "Epoch 17: val_loss did not improve from 0.14360\n",
            "\u001b[1m693/693\u001b[0m \u001b[32m━━━━━━━━━━━━━━━━━━━━\u001b[0m\u001b[37m\u001b[0m \u001b[1m82s\u001b[0m 68ms/step - accuracy: 0.9776 - loss: 0.0666 - precision: 0.9721 - recall: 0.9596 - val_accuracy: 0.9442 - val_loss: 0.1780 - val_precision: 0.9064 - val_recall: 0.9285 - learning_rate: 5.0000e-05\n",
            "Epoch 18/50\n",
            "\u001b[1m692/693\u001b[0m \u001b[32m━━━━━━━━━━━━━━━━━━━\u001b[0m\u001b[37m━\u001b[0m \u001b[1m0s\u001b[0m 60ms/step - accuracy: 0.9866 - loss: 0.0408 - precision: 0.9825 - recall: 0.9764\n",
            "Epoch 18: val_loss did not improve from 0.14360\n",
            "\n",
            "Epoch 18: ReduceLROnPlateau reducing learning rate to 2.499999936844688e-05.\n",
            "\u001b[1m693/693\u001b[0m \u001b[32m━━━━━━━━━━━━━━━━━━━━\u001b[0m\u001b[37m\u001b[0m \u001b[1m82s\u001b[0m 68ms/step - accuracy: 0.9866 - loss: 0.0408 - precision: 0.9825 - recall: 0.9764 - val_accuracy: 0.9507 - val_loss: 0.1636 - val_precision: 0.9589 - val_recall: 0.8903 - learning_rate: 5.0000e-05\n",
            "Epoch 19/50\n",
            "\u001b[1m693/693\u001b[0m \u001b[32m━━━━━━━━━━━━━━━━━━━━\u001b[0m\u001b[37m\u001b[0m \u001b[1m0s\u001b[0m 61ms/step - accuracy: 0.9871 - loss: 0.0357 - precision: 0.9855 - recall: 0.9760\n",
            "Epoch 19: val_loss did not improve from 0.14360\n",
            "\u001b[1m693/693\u001b[0m \u001b[32m━━━━━━━━━━━━━━━━━━━━\u001b[0m\u001b[37m\u001b[0m \u001b[1m81s\u001b[0m 66ms/step - accuracy: 0.9872 - loss: 0.0357 - precision: 0.9855 - recall: 0.9760 - val_accuracy: 0.9540 - val_loss: 0.1837 - val_precision: 0.9554 - val_recall: 0.9041 - learning_rate: 2.5000e-05\n",
            "Epoch 20/50\n",
            "\u001b[1m692/693\u001b[0m \u001b[32m━━━━━━━━━━━━━━━━━━━\u001b[0m\u001b[37m━\u001b[0m \u001b[1m0s\u001b[0m 61ms/step - accuracy: 0.9935 - loss: 0.0209 - precision: 0.9922 - recall: 0.9885\n",
            "Epoch 20: val_loss did not improve from 0.14360\n",
            "\u001b[1m693/693\u001b[0m \u001b[32m━━━━━━━━━━━━━━━━━━━━\u001b[0m\u001b[37m\u001b[0m \u001b[1m81s\u001b[0m 66ms/step - accuracy: 0.9935 - loss: 0.0209 - precision: 0.9922 - recall: 0.9885 - val_accuracy: 0.9505 - val_loss: 0.1998 - val_precision: 0.9323 - val_recall: 0.9180 - learning_rate: 2.5000e-05\n",
            "Epoch 20: early stopping\n",
            "Restoring model weights from the end of the best epoch: 15.\n"
          ]
        },
        {
          "output_type": "execute_result",
          "data": {
            "text/plain": [
              "<keras.src.callbacks.history.History at 0x7877c2607fd0>"
            ]
          },
          "metadata": {},
          "execution_count": 22
        }
      ]
    },
    {
      "cell_type": "code",
      "source": [
        "best_inception = load_model(\"best_model.keras\",\n",
        "                        custom_objects={'Precision': Precision, 'Recall': Recall})\n",
        "\n",
        "results = best_inception.evaluate(X_test, y_test, verbose=1)\n"
      ],
      "metadata": {
        "colab": {
          "base_uri": "https://localhost:8080/"
        },
        "id": "AIuraJu-PGqR",
        "outputId": "be41fea3-efb7-4f9b-9876-ace1dd994f68"
      },
      "execution_count": null,
      "outputs": [
        {
          "output_type": "stream",
          "name": "stdout",
          "text": [
            "\u001b[1m116/116\u001b[0m \u001b[32m━━━━━━━━━━━━━━━━━━━━\u001b[0m\u001b[37m\u001b[0m \u001b[1m14s\u001b[0m 58ms/step - accuracy: 0.9627 - loss: 0.1284 - precision: 0.9540 - recall: 0.9277\n"
          ]
        }
      ]
    }
  ],
  "metadata": {
    "colab": {
      "provenance": [],
      "collapsed_sections": [
        "JrqyBN0tGNPC",
        "DKgbUvu-GTkh",
        "GmupddkdGX-k",
        "_3a03WfHLhfu"
      ],
      "gpuType": "T4"
    },
    "kernelspec": {
      "display_name": "Python 3",
      "name": "python3"
    },
    "language_info": {
      "name": "python"
    },
    "accelerator": "GPU"
  },
  "nbformat": 4,
  "nbformat_minor": 0
}